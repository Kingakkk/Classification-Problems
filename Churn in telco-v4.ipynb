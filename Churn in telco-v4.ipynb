{
 "cells": [
  {
   "cell_type": "markdown",
   "id": "a26ba32d",
   "metadata": {},
   "source": [
    "# CHURN IN TELCO INDUSTRY"
   ]
  },
  {
   "cell_type": "markdown",
   "id": "392b6b47",
   "metadata": {},
   "source": [
    "This project is made as a summary of the knowledge gained from the Data Science bootcamp organized by Sages\n",
    "\n",
    "### Loyal vs Churn\n",
    "The aim of this project is to predict whether a given customer of one of the telecommunications companies will leave or stay. To be able to recognize customers behavior it will be use machine learning based on classification models such as Random Forest, GradientBoosting or XGBoost.\n",
    "\n",
    "Using differnt machine learning classifiers I will try to predict churn of customers. As such disproportions often appear in such data sets (customer churns), it is necessary to investigate whether this does not occur here and, if so, try to apply appropriate methods to solve this problem. In the dataset is 21 variable so maybe it will be usefull to drop some of them or try to change them somehow.\n",
    "\n",
    "Dataset is from Kaggle: https://www.kaggle.com/datasets/becksddf/churn-in-telecoms-dataset in csv format and each row contain information about one customer. The file with data has been added to repository.\n",
    "\n",
    "### Steps to follow:  <a class=\"anchor\" id=\"0-bullet\"></a>\n",
    "* [1. Importing needed libraries (including own fuctions), setting options](#1-bullet)\n",
    "* [2. Importing data](#2-bullet)\n",
    "* [3. Basic information and metrics about dataset](#3-bullet)\n",
    "* [4. Visualization and correlation - first conclusions](#4-bullet)\n",
    "* [5a. Feature selection and dimension reduction](#5-bullet)\n",
    "* [5b. Choosing best dataset for model](#51-bullet)\n",
    "* [6. Classification with different models](#6-bullet)\n",
    "* [7. Crossvalidation to see if model is overfitting or not](#7-bullet)\n",
    "* [8. Improving prediction with best model](#8-bullet)\n",
    "* [9. Summary](#9-bullet)"
   ]
  },
  {
   "cell_type": "markdown",
   "id": "c0bd5089",
   "metadata": {},
   "source": [
    "## 1.Importing needed libraries (including own fuctions), setting options <a class=\"anchor\" id=\"1-bullet\"></a>"
   ]
  },
  {
   "cell_type": "code",
   "execution_count": 8,
   "id": "ec87b899",
   "metadata": {},
   "outputs": [],
   "source": [
    "import pandas as pd\n",
    "import numpy as np\n",
    "import matplotlib.pyplot as plt\n",
    "import seaborn as sns\n",
    "%matplotlib inline\n",
    "\n",
    "from sklearn.preprocessing import LabelEncoder, Normalizer, StandardScaler, MinMaxScaler  \n",
    "\n",
    "from sklearn.model_selection import train_test_split, KFold, StratifiedKFold, GridSearchCV, cross_val_score\n",
    "\n",
    "from sklearn.feature_selection import chi2, SelectKBest, RFE, SelectFromModel, SelectPercentile\n",
    "\n",
    "from sklearn.utils import resample\n",
    "\n",
    "from sklearn.decomposition import PCA\n",
    "from sklearn.linear_model import LogisticRegression\n",
    "from sklearn.svm import SVC\n",
    "from sklearn.tree import DecisionTreeClassifier\n",
    "from sklearn.ensemble import RandomForestClassifier, GradientBoostingClassifier, AdaBoostClassifier\n",
    "from sklearn.neighbors import KNeighborsClassifier\n",
    "\n",
    "from sklearn.metrics import roc_curve, auc, confusion_matrix, accuracy_score, f1_score, \\\n",
    "                            recall_score, roc_auc_score, precision_score, recall_score, classification_report\n",
    "\n",
    "from sklearn.pipeline import make_pipeline, Pipeline\n",
    "from imblearn.over_sampling import SMOTE\n",
    "from imblearn.pipeline import make_pipeline, Pipeline\n",
    "\n",
    "import xgboost as xgb"
   ]
  },
  {
   "cell_type": "code",
   "execution_count": 9,
   "id": "25c54888",
   "metadata": {},
   "outputs": [],
   "source": [
    "from Functions_1 import unique_col, null_value, column_to_delete, return_categorical, \\\n",
    "                         return_numeric, print_basic_info, col_to_drop_after_high_corr, \\\n",
    "                         print_feature_summary, preprocessing, looking_for_parameters, plot_countplot, \\\n",
    "                         plot_hist_box, compare_with_target, corr_plot, target_in_outliers, \\\n",
    "                         print_report_for_classification, calculating_metrics, \\\n",
    "                         cvs_scores_to_df, create_measures, calculate_metrics, find_best_option"
   ]
  },
  {
   "cell_type": "markdown",
   "id": "da1fb585",
   "metadata": {},
   "source": [
    "### Setting an options"
   ]
  },
  {
   "cell_type": "code",
   "execution_count": 10,
   "id": "71dd2169",
   "metadata": {},
   "outputs": [],
   "source": [
    "sns.set_theme(style=\"whitegrid\")\n",
    "pd.set_option('display.max_rows', None)"
   ]
  },
  {
   "cell_type": "code",
   "execution_count": 11,
   "id": "0ff979ea",
   "metadata": {},
   "outputs": [],
   "source": [
    "from IPython.display import HTML\n",
    "import random\n",
    "\n",
    "def hide_toggle(for_next=False):\n",
    "    this_cell = \"\"\"$('div.cell.code_cell.rendered.selected')\"\"\"\n",
    "    next_cell = this_cell + '.next()'\n",
    "\n",
    "    toggle_text = 'Hidden function'  # text shown on toggle link\n",
    "    target_cell = this_cell  # target cell to control with toggle\n",
    "    js_hide_current = ''  # bit of JS to permanently hide code in current cell (only when toggling next cell)\n",
    "\n",
    "    if for_next:\n",
    "        target_cell = next_cell\n",
    "        toggle_text += ' next cell'\n",
    "        js_hide_current = this_cell + '.find(\"div.input\").hide();'\n",
    "\n",
    "    js_f_name = 'code_toggle_{}'.format(str(random.randint(1,2**64)))\n",
    "\n",
    "    html = \"\"\"\n",
    "        <script>\n",
    "            function {f_name}() {{\n",
    "                {cell_selector}.find('div.input').toggle();\n",
    "            }}\n",
    "\n",
    "            {js_hide_current}\n",
    "        </script>\n",
    "\n",
    "        <a href=\"javascript:{f_name}()\">{toggle_text}</a>\n",
    "    \"\"\".format(\n",
    "        f_name=js_f_name,\n",
    "        cell_selector=target_cell,\n",
    "        js_hide_current=js_hide_current, \n",
    "        toggle_text=toggle_text\n",
    "    )\n",
    "\n",
    "    return HTML(html)"
   ]
  },
  {
   "cell_type": "markdown",
   "id": "c4fe3511",
   "metadata": {},
   "source": [
    "[Go back to the table of contents](#0-bullet)"
   ]
  },
  {
   "cell_type": "markdown",
   "id": "6fde1627",
   "metadata": {},
   "source": [
    "## 2. Importing data <a class=\"anchor\" id=\"2-bullet\"></a>"
   ]
  },
  {
   "cell_type": "code",
   "execution_count": 12,
   "id": "81d8fad9",
   "metadata": {},
   "outputs": [],
   "source": [
    "data = pd.read_csv(\"bigml_59c28831336c6604c800002a.csv\")"
   ]
  },
  {
   "cell_type": "code",
   "execution_count": 13,
   "id": "34fd2618",
   "metadata": {},
   "outputs": [
    {
     "data": {
      "text/html": [
       "<div>\n",
       "<style scoped>\n",
       "    .dataframe tbody tr th:only-of-type {\n",
       "        vertical-align: middle;\n",
       "    }\n",
       "\n",
       "    .dataframe tbody tr th {\n",
       "        vertical-align: top;\n",
       "    }\n",
       "\n",
       "    .dataframe thead th {\n",
       "        text-align: right;\n",
       "    }\n",
       "</style>\n",
       "<table border=\"1\" class=\"dataframe\">\n",
       "  <thead>\n",
       "    <tr style=\"text-align: right;\">\n",
       "      <th></th>\n",
       "      <th>state</th>\n",
       "      <th>account length</th>\n",
       "      <th>area code</th>\n",
       "      <th>phone number</th>\n",
       "      <th>international plan</th>\n",
       "      <th>voice mail plan</th>\n",
       "      <th>number vmail messages</th>\n",
       "      <th>total day minutes</th>\n",
       "      <th>total day calls</th>\n",
       "      <th>total day charge</th>\n",
       "      <th>...</th>\n",
       "      <th>total eve calls</th>\n",
       "      <th>total eve charge</th>\n",
       "      <th>total night minutes</th>\n",
       "      <th>total night calls</th>\n",
       "      <th>total night charge</th>\n",
       "      <th>total intl minutes</th>\n",
       "      <th>total intl calls</th>\n",
       "      <th>total intl charge</th>\n",
       "      <th>customer service calls</th>\n",
       "      <th>churn</th>\n",
       "    </tr>\n",
       "  </thead>\n",
       "  <tbody>\n",
       "    <tr>\n",
       "      <th>0</th>\n",
       "      <td>KS</td>\n",
       "      <td>128</td>\n",
       "      <td>415</td>\n",
       "      <td>382-4657</td>\n",
       "      <td>no</td>\n",
       "      <td>yes</td>\n",
       "      <td>25</td>\n",
       "      <td>265.1</td>\n",
       "      <td>110</td>\n",
       "      <td>45.07</td>\n",
       "      <td>...</td>\n",
       "      <td>99</td>\n",
       "      <td>16.78</td>\n",
       "      <td>244.7</td>\n",
       "      <td>91</td>\n",
       "      <td>11.01</td>\n",
       "      <td>10.0</td>\n",
       "      <td>3</td>\n",
       "      <td>2.70</td>\n",
       "      <td>1</td>\n",
       "      <td>False</td>\n",
       "    </tr>\n",
       "    <tr>\n",
       "      <th>1</th>\n",
       "      <td>OH</td>\n",
       "      <td>107</td>\n",
       "      <td>415</td>\n",
       "      <td>371-7191</td>\n",
       "      <td>no</td>\n",
       "      <td>yes</td>\n",
       "      <td>26</td>\n",
       "      <td>161.6</td>\n",
       "      <td>123</td>\n",
       "      <td>27.47</td>\n",
       "      <td>...</td>\n",
       "      <td>103</td>\n",
       "      <td>16.62</td>\n",
       "      <td>254.4</td>\n",
       "      <td>103</td>\n",
       "      <td>11.45</td>\n",
       "      <td>13.7</td>\n",
       "      <td>3</td>\n",
       "      <td>3.70</td>\n",
       "      <td>1</td>\n",
       "      <td>False</td>\n",
       "    </tr>\n",
       "    <tr>\n",
       "      <th>2</th>\n",
       "      <td>NJ</td>\n",
       "      <td>137</td>\n",
       "      <td>415</td>\n",
       "      <td>358-1921</td>\n",
       "      <td>no</td>\n",
       "      <td>no</td>\n",
       "      <td>0</td>\n",
       "      <td>243.4</td>\n",
       "      <td>114</td>\n",
       "      <td>41.38</td>\n",
       "      <td>...</td>\n",
       "      <td>110</td>\n",
       "      <td>10.30</td>\n",
       "      <td>162.6</td>\n",
       "      <td>104</td>\n",
       "      <td>7.32</td>\n",
       "      <td>12.2</td>\n",
       "      <td>5</td>\n",
       "      <td>3.29</td>\n",
       "      <td>0</td>\n",
       "      <td>False</td>\n",
       "    </tr>\n",
       "    <tr>\n",
       "      <th>3</th>\n",
       "      <td>OH</td>\n",
       "      <td>84</td>\n",
       "      <td>408</td>\n",
       "      <td>375-9999</td>\n",
       "      <td>yes</td>\n",
       "      <td>no</td>\n",
       "      <td>0</td>\n",
       "      <td>299.4</td>\n",
       "      <td>71</td>\n",
       "      <td>50.90</td>\n",
       "      <td>...</td>\n",
       "      <td>88</td>\n",
       "      <td>5.26</td>\n",
       "      <td>196.9</td>\n",
       "      <td>89</td>\n",
       "      <td>8.86</td>\n",
       "      <td>6.6</td>\n",
       "      <td>7</td>\n",
       "      <td>1.78</td>\n",
       "      <td>2</td>\n",
       "      <td>False</td>\n",
       "    </tr>\n",
       "    <tr>\n",
       "      <th>4</th>\n",
       "      <td>OK</td>\n",
       "      <td>75</td>\n",
       "      <td>415</td>\n",
       "      <td>330-6626</td>\n",
       "      <td>yes</td>\n",
       "      <td>no</td>\n",
       "      <td>0</td>\n",
       "      <td>166.7</td>\n",
       "      <td>113</td>\n",
       "      <td>28.34</td>\n",
       "      <td>...</td>\n",
       "      <td>122</td>\n",
       "      <td>12.61</td>\n",
       "      <td>186.9</td>\n",
       "      <td>121</td>\n",
       "      <td>8.41</td>\n",
       "      <td>10.1</td>\n",
       "      <td>3</td>\n",
       "      <td>2.73</td>\n",
       "      <td>3</td>\n",
       "      <td>False</td>\n",
       "    </tr>\n",
       "  </tbody>\n",
       "</table>\n",
       "<p>5 rows × 21 columns</p>\n",
       "</div>"
      ],
      "text/plain": [
       "  state  account length  area code phone number international plan  \\\n",
       "0    KS             128        415     382-4657                 no   \n",
       "1    OH             107        415     371-7191                 no   \n",
       "2    NJ             137        415     358-1921                 no   \n",
       "3    OH              84        408     375-9999                yes   \n",
       "4    OK              75        415     330-6626                yes   \n",
       "\n",
       "  voice mail plan  number vmail messages  total day minutes  total day calls  \\\n",
       "0             yes                     25              265.1              110   \n",
       "1             yes                     26              161.6              123   \n",
       "2              no                      0              243.4              114   \n",
       "3              no                      0              299.4               71   \n",
       "4              no                      0              166.7              113   \n",
       "\n",
       "   total day charge  ...  total eve calls  total eve charge  \\\n",
       "0             45.07  ...               99             16.78   \n",
       "1             27.47  ...              103             16.62   \n",
       "2             41.38  ...              110             10.30   \n",
       "3             50.90  ...               88              5.26   \n",
       "4             28.34  ...              122             12.61   \n",
       "\n",
       "   total night minutes  total night calls  total night charge  \\\n",
       "0                244.7                 91               11.01   \n",
       "1                254.4                103               11.45   \n",
       "2                162.6                104                7.32   \n",
       "3                196.9                 89                8.86   \n",
       "4                186.9                121                8.41   \n",
       "\n",
       "   total intl minutes  total intl calls  total intl charge  \\\n",
       "0                10.0                 3               2.70   \n",
       "1                13.7                 3               3.70   \n",
       "2                12.2                 5               3.29   \n",
       "3                 6.6                 7               1.78   \n",
       "4                10.1                 3               2.73   \n",
       "\n",
       "   customer service calls  churn  \n",
       "0                       1  False  \n",
       "1                       1  False  \n",
       "2                       0  False  \n",
       "3                       2  False  \n",
       "4                       3  False  \n",
       "\n",
       "[5 rows x 21 columns]"
      ]
     },
     "execution_count": 13,
     "metadata": {},
     "output_type": "execute_result"
    }
   ],
   "source": [
    "data.head()"
   ]
  },
  {
   "cell_type": "markdown",
   "id": "8f49670a",
   "metadata": {},
   "source": [
    "[Go back to the table of contents](#0-bullet)"
   ]
  },
  {
   "cell_type": "markdown",
   "id": "2a688eac",
   "metadata": {},
   "source": [
    "## 3. Basic information and metrics about dataset <a class=\"anchor\" id=\"3-bullet\"></a>"
   ]
  },
  {
   "cell_type": "code",
   "execution_count": 14,
   "id": "b1c0d898",
   "metadata": {},
   "outputs": [
    {
     "name": "stdout",
     "output_type": "stream",
     "text": [
      "Dataset basic information: \n",
      "\n",
      "<class 'pandas.core.frame.DataFrame'>\n",
      "RangeIndex: 3333 entries, 0 to 3332\n",
      "Data columns (total 21 columns):\n",
      " #   Column                  Non-Null Count  Dtype  \n",
      "---  ------                  --------------  -----  \n",
      " 0   state                   3333 non-null   object \n",
      " 1   account length          3333 non-null   int64  \n",
      " 2   area code               3333 non-null   int64  \n",
      " 3   phone number            3333 non-null   object \n",
      " 4   international plan      3333 non-null   object \n",
      " 5   voice mail plan         3333 non-null   object \n",
      " 6   number vmail messages   3333 non-null   int64  \n",
      " 7   total day minutes       3333 non-null   float64\n",
      " 8   total day calls         3333 non-null   int64  \n",
      " 9   total day charge        3333 non-null   float64\n",
      " 10  total eve minutes       3333 non-null   float64\n",
      " 11  total eve calls         3333 non-null   int64  \n",
      " 12  total eve charge        3333 non-null   float64\n",
      " 13  total night minutes     3333 non-null   float64\n",
      " 14  total night calls       3333 non-null   int64  \n",
      " 15  total night charge      3333 non-null   float64\n",
      " 16  total intl minutes      3333 non-null   float64\n",
      " 17  total intl calls        3333 non-null   int64  \n",
      " 18  total intl charge       3333 non-null   float64\n",
      " 19  customer service calls  3333 non-null   int64  \n",
      " 20  churn                   3333 non-null   bool   \n",
      "dtypes: bool(1), float64(8), int64(8), object(4)\n",
      "memory usage: 524.2+ KB\n"
     ]
    }
   ],
   "source": [
    "print(f\"Dataset basic information: \\n\")\n",
    "data.info()"
   ]
  },
  {
   "cell_type": "code",
   "execution_count": 15,
   "id": "5a1e955a",
   "metadata": {},
   "outputs": [
    {
     "name": "stdout",
     "output_type": "stream",
     "text": [
      "Basic statistic for numerical variable:\n"
     ]
    },
    {
     "data": {
      "text/html": [
       "<div>\n",
       "<style scoped>\n",
       "    .dataframe tbody tr th:only-of-type {\n",
       "        vertical-align: middle;\n",
       "    }\n",
       "\n",
       "    .dataframe tbody tr th {\n",
       "        vertical-align: top;\n",
       "    }\n",
       "\n",
       "    .dataframe thead th {\n",
       "        text-align: right;\n",
       "    }\n",
       "</style>\n",
       "<table border=\"1\" class=\"dataframe\">\n",
       "  <thead>\n",
       "    <tr style=\"text-align: right;\">\n",
       "      <th></th>\n",
       "      <th>count</th>\n",
       "      <th>mean</th>\n",
       "      <th>std</th>\n",
       "      <th>min</th>\n",
       "      <th>25%</th>\n",
       "      <th>50%</th>\n",
       "      <th>75%</th>\n",
       "      <th>max</th>\n",
       "    </tr>\n",
       "  </thead>\n",
       "  <tbody>\n",
       "    <tr>\n",
       "      <th>account length</th>\n",
       "      <td>3333.0</td>\n",
       "      <td>101.064806</td>\n",
       "      <td>39.822106</td>\n",
       "      <td>1.00</td>\n",
       "      <td>74.00</td>\n",
       "      <td>101.00</td>\n",
       "      <td>127.00</td>\n",
       "      <td>243.00</td>\n",
       "    </tr>\n",
       "    <tr>\n",
       "      <th>area code</th>\n",
       "      <td>3333.0</td>\n",
       "      <td>437.182418</td>\n",
       "      <td>42.371290</td>\n",
       "      <td>408.00</td>\n",
       "      <td>408.00</td>\n",
       "      <td>415.00</td>\n",
       "      <td>510.00</td>\n",
       "      <td>510.00</td>\n",
       "    </tr>\n",
       "    <tr>\n",
       "      <th>number vmail messages</th>\n",
       "      <td>3333.0</td>\n",
       "      <td>8.099010</td>\n",
       "      <td>13.688365</td>\n",
       "      <td>0.00</td>\n",
       "      <td>0.00</td>\n",
       "      <td>0.00</td>\n",
       "      <td>20.00</td>\n",
       "      <td>51.00</td>\n",
       "    </tr>\n",
       "    <tr>\n",
       "      <th>total day minutes</th>\n",
       "      <td>3333.0</td>\n",
       "      <td>179.775098</td>\n",
       "      <td>54.467389</td>\n",
       "      <td>0.00</td>\n",
       "      <td>143.70</td>\n",
       "      <td>179.40</td>\n",
       "      <td>216.40</td>\n",
       "      <td>350.80</td>\n",
       "    </tr>\n",
       "    <tr>\n",
       "      <th>total day calls</th>\n",
       "      <td>3333.0</td>\n",
       "      <td>100.435644</td>\n",
       "      <td>20.069084</td>\n",
       "      <td>0.00</td>\n",
       "      <td>87.00</td>\n",
       "      <td>101.00</td>\n",
       "      <td>114.00</td>\n",
       "      <td>165.00</td>\n",
       "    </tr>\n",
       "    <tr>\n",
       "      <th>total day charge</th>\n",
       "      <td>3333.0</td>\n",
       "      <td>30.562307</td>\n",
       "      <td>9.259435</td>\n",
       "      <td>0.00</td>\n",
       "      <td>24.43</td>\n",
       "      <td>30.50</td>\n",
       "      <td>36.79</td>\n",
       "      <td>59.64</td>\n",
       "    </tr>\n",
       "    <tr>\n",
       "      <th>total eve minutes</th>\n",
       "      <td>3333.0</td>\n",
       "      <td>200.980348</td>\n",
       "      <td>50.713844</td>\n",
       "      <td>0.00</td>\n",
       "      <td>166.60</td>\n",
       "      <td>201.40</td>\n",
       "      <td>235.30</td>\n",
       "      <td>363.70</td>\n",
       "    </tr>\n",
       "    <tr>\n",
       "      <th>total eve calls</th>\n",
       "      <td>3333.0</td>\n",
       "      <td>100.114311</td>\n",
       "      <td>19.922625</td>\n",
       "      <td>0.00</td>\n",
       "      <td>87.00</td>\n",
       "      <td>100.00</td>\n",
       "      <td>114.00</td>\n",
       "      <td>170.00</td>\n",
       "    </tr>\n",
       "    <tr>\n",
       "      <th>total eve charge</th>\n",
       "      <td>3333.0</td>\n",
       "      <td>17.083540</td>\n",
       "      <td>4.310668</td>\n",
       "      <td>0.00</td>\n",
       "      <td>14.16</td>\n",
       "      <td>17.12</td>\n",
       "      <td>20.00</td>\n",
       "      <td>30.91</td>\n",
       "    </tr>\n",
       "    <tr>\n",
       "      <th>total night minutes</th>\n",
       "      <td>3333.0</td>\n",
       "      <td>200.872037</td>\n",
       "      <td>50.573847</td>\n",
       "      <td>23.20</td>\n",
       "      <td>167.00</td>\n",
       "      <td>201.20</td>\n",
       "      <td>235.30</td>\n",
       "      <td>395.00</td>\n",
       "    </tr>\n",
       "    <tr>\n",
       "      <th>total night calls</th>\n",
       "      <td>3333.0</td>\n",
       "      <td>100.107711</td>\n",
       "      <td>19.568609</td>\n",
       "      <td>33.00</td>\n",
       "      <td>87.00</td>\n",
       "      <td>100.00</td>\n",
       "      <td>113.00</td>\n",
       "      <td>175.00</td>\n",
       "    </tr>\n",
       "    <tr>\n",
       "      <th>total night charge</th>\n",
       "      <td>3333.0</td>\n",
       "      <td>9.039325</td>\n",
       "      <td>2.275873</td>\n",
       "      <td>1.04</td>\n",
       "      <td>7.52</td>\n",
       "      <td>9.05</td>\n",
       "      <td>10.59</td>\n",
       "      <td>17.77</td>\n",
       "    </tr>\n",
       "    <tr>\n",
       "      <th>total intl minutes</th>\n",
       "      <td>3333.0</td>\n",
       "      <td>10.237294</td>\n",
       "      <td>2.791840</td>\n",
       "      <td>0.00</td>\n",
       "      <td>8.50</td>\n",
       "      <td>10.30</td>\n",
       "      <td>12.10</td>\n",
       "      <td>20.00</td>\n",
       "    </tr>\n",
       "    <tr>\n",
       "      <th>total intl calls</th>\n",
       "      <td>3333.0</td>\n",
       "      <td>4.479448</td>\n",
       "      <td>2.461214</td>\n",
       "      <td>0.00</td>\n",
       "      <td>3.00</td>\n",
       "      <td>4.00</td>\n",
       "      <td>6.00</td>\n",
       "      <td>20.00</td>\n",
       "    </tr>\n",
       "    <tr>\n",
       "      <th>total intl charge</th>\n",
       "      <td>3333.0</td>\n",
       "      <td>2.764581</td>\n",
       "      <td>0.753773</td>\n",
       "      <td>0.00</td>\n",
       "      <td>2.30</td>\n",
       "      <td>2.78</td>\n",
       "      <td>3.27</td>\n",
       "      <td>5.40</td>\n",
       "    </tr>\n",
       "    <tr>\n",
       "      <th>customer service calls</th>\n",
       "      <td>3333.0</td>\n",
       "      <td>1.562856</td>\n",
       "      <td>1.315491</td>\n",
       "      <td>0.00</td>\n",
       "      <td>1.00</td>\n",
       "      <td>1.00</td>\n",
       "      <td>2.00</td>\n",
       "      <td>9.00</td>\n",
       "    </tr>\n",
       "  </tbody>\n",
       "</table>\n",
       "</div>"
      ],
      "text/plain": [
       "                         count        mean        std     min     25%     50%  \\\n",
       "account length          3333.0  101.064806  39.822106    1.00   74.00  101.00   \n",
       "area code               3333.0  437.182418  42.371290  408.00  408.00  415.00   \n",
       "number vmail messages   3333.0    8.099010  13.688365    0.00    0.00    0.00   \n",
       "total day minutes       3333.0  179.775098  54.467389    0.00  143.70  179.40   \n",
       "total day calls         3333.0  100.435644  20.069084    0.00   87.00  101.00   \n",
       "total day charge        3333.0   30.562307   9.259435    0.00   24.43   30.50   \n",
       "total eve minutes       3333.0  200.980348  50.713844    0.00  166.60  201.40   \n",
       "total eve calls         3333.0  100.114311  19.922625    0.00   87.00  100.00   \n",
       "total eve charge        3333.0   17.083540   4.310668    0.00   14.16   17.12   \n",
       "total night minutes     3333.0  200.872037  50.573847   23.20  167.00  201.20   \n",
       "total night calls       3333.0  100.107711  19.568609   33.00   87.00  100.00   \n",
       "total night charge      3333.0    9.039325   2.275873    1.04    7.52    9.05   \n",
       "total intl minutes      3333.0   10.237294   2.791840    0.00    8.50   10.30   \n",
       "total intl calls        3333.0    4.479448   2.461214    0.00    3.00    4.00   \n",
       "total intl charge       3333.0    2.764581   0.753773    0.00    2.30    2.78   \n",
       "customer service calls  3333.0    1.562856   1.315491    0.00    1.00    1.00   \n",
       "\n",
       "                           75%     max  \n",
       "account length          127.00  243.00  \n",
       "area code               510.00  510.00  \n",
       "number vmail messages    20.00   51.00  \n",
       "total day minutes       216.40  350.80  \n",
       "total day calls         114.00  165.00  \n",
       "total day charge         36.79   59.64  \n",
       "total eve minutes       235.30  363.70  \n",
       "total eve calls         114.00  170.00  \n",
       "total eve charge         20.00   30.91  \n",
       "total night minutes     235.30  395.00  \n",
       "total night calls       113.00  175.00  \n",
       "total night charge       10.59   17.77  \n",
       "total intl minutes       12.10   20.00  \n",
       "total intl calls          6.00   20.00  \n",
       "total intl charge         3.27    5.40  \n",
       "customer service calls    2.00    9.00  "
      ]
     },
     "execution_count": 15,
     "metadata": {},
     "output_type": "execute_result"
    }
   ],
   "source": [
    "print(f\"Basic statistic for numerical variable:\")\n",
    "data.describe().T"
   ]
  },
  {
   "cell_type": "code",
   "execution_count": 16,
   "id": "9ce57e3f",
   "metadata": {},
   "outputs": [
    {
     "name": "stdout",
     "output_type": "stream",
     "text": [
      "BASIC INFORMATION ABOUT THE DATASET \n",
      "\n",
      "--------------------------------------------------------------------------\n",
      "Number of row: 3333, number of columns 21 \n",
      "\n",
      "--------------------------------------------------------------------------\n",
      "Is there null values: No \n",
      "\n",
      "Columns with null values: [] \n",
      "\n",
      "--------------------------------------------------------------------------\n",
      "Categorical columns: ['state', 'phone number', 'international plan', 'voice mail plan'] \n",
      "\n",
      "Numeric columns: ['account length', 'area code', 'number vmail messages', 'total day minutes', 'total day calls', 'total day charge', 'total eve minutes', 'total eve calls', 'total eve charge', 'total night minutes', 'total night calls', 'total night charge', 'total intl minutes', 'total intl calls', 'total intl charge', 'customer service calls', 'churn'] \n",
      "\n",
      "How many unique value have each columns:\n",
      "- STATE:  51. This is 0.015% of data\n",
      "- ACCOUNT LENGTH:  212. This is 0.064% of data\n",
      "- AREA CODE:  3. This is 0.001% of data\n",
      "- PHONE NUMBER:  3333. This is 1.0% of data\n",
      "- INTERNATIONAL PLAN:  2. This is 0.001% of data\n",
      "- VOICE MAIL PLAN:  2. This is 0.001% of data\n",
      "- NUMBER VMAIL MESSAGES:  46. This is 0.014% of data\n",
      "- TOTAL DAY MINUTES:  1667. This is 0.5% of data\n",
      "- TOTAL DAY CALLS:  119. This is 0.036% of data\n",
      "- TOTAL DAY CHARGE:  1667. This is 0.5% of data\n",
      "- TOTAL EVE MINUTES:  1611. This is 0.483% of data\n",
      "- TOTAL EVE CALLS:  123. This is 0.037% of data\n",
      "- TOTAL EVE CHARGE:  1440. This is 0.432% of data\n",
      "- TOTAL NIGHT MINUTES:  1591. This is 0.477% of data\n",
      "- TOTAL NIGHT CALLS:  120. This is 0.036% of data\n",
      "- TOTAL NIGHT CHARGE:  933. This is 0.28% of data\n",
      "- TOTAL INTL MINUTES:  162. This is 0.049% of data\n",
      "- TOTAL INTL CALLS:  21. This is 0.006% of data\n",
      "- TOTAL INTL CHARGE:  162. This is 0.049% of data\n",
      "- CUSTOMER SERVICE CALLS:  10. This is 0.003% of data\n",
      "- CHURN:  2. This is 0.001% of data\n",
      "None \n",
      "\n",
      "--------------------------------------------------------------------------\n",
      "Is dataset unbalaced? Yes. \n",
      "Percentage of clients who made churn is: 14.49% \n",
      "\n",
      "Columns to delete because they contains only unique value: ['phone number']\n"
     ]
    }
   ],
   "source": [
    "print_basic_info(data, 'churn', 35)"
   ]
  },
  {
   "cell_type": "markdown",
   "id": "7cc947eb",
   "metadata": {},
   "source": [
    "### Conclusion about first check: \n",
    "1) There is no null value so we don't have to handle missing value\n",
    "\n",
    "2) The dataset have 21 columns so we can try select best feature for models - feature selection\n",
    "\n",
    "3) Data will have to be standardized\n",
    "\n",
    "4) Variable: PHONE NUMBER have only unique values so we can remove it from dataset\n",
    "\n",
    "5) Dataset is unbalanced, and members with churn is only 14,49% of all data so it will be usufull to try some resample data or use some methods for this problem like smote"
   ]
  },
  {
   "cell_type": "markdown",
   "id": "a1e28224",
   "metadata": {},
   "source": [
    "### Next step:\n",
    "* drop unnecesary columns\n",
    "* divide data in X and y (optional at this stage)\n",
    "* change prediction column in numeric type.\n",
    "* divide columns in numeric and categorical -> categorical value invert into numeric by LabelEncoder or OneHotEncoder\n",
    "* check corellation in the dataset\n",
    "\n",
    "\n",
    "\n",
    "[Go back to the table of contents](#0-bullet)"
   ]
  },
  {
   "cell_type": "markdown",
   "id": "2e7a559f",
   "metadata": {},
   "source": [
    "## 4. Visualization and correlation <a class=\"anchor\" id=\"4-bullet\"></a>"
   ]
  },
  {
   "cell_type": "code",
   "execution_count": 17,
   "id": "6b071cdc",
   "metadata": {
    "scrolled": false
   },
   "outputs": [
    {
     "data": {
      "image/png": "[encoded data removed]",
      "text/plain": [
       "<Figure size 864x576 with 1 Axes>"
      ]
     },
     "metadata": {},
     "output_type": "display_data"
    }
   ],
   "source": [
    "plot_countplot(data, 'churn', 'Churn in %', size=4)"
   ]
  },
  {
   "cell_type": "markdown",
   "id": "ce5bb959",
   "metadata": {},
   "source": [
    "As we see above the data is very unbalanced."
   ]
  },
  {
   "cell_type": "code",
   "execution_count": 18,
   "id": "5ad8912b",
   "metadata": {
    "scrolled": false
   },
   "outputs": [
    {
     "data": {
      "image/png": "[encoded data removed]",
      "text/plain": [
       "<Figure size 864x576 with 1 Axes>"
      ]
     },
     "metadata": {},
     "output_type": "display_data"
    }
   ],
   "source": [
    "plot_countplot(data, 'customer service calls', 'Customer service calls in %', size=4)"
   ]
  },
  {
   "cell_type": "code",
   "execution_count": 19,
   "id": "71e528a8",
   "metadata": {
    "scrolled": false
   },
   "outputs": [
    {
     "data": {
      "image/png": "[encoded data removed]",
      "text/plain": [
       "<Figure size 1152x432 with 2 Axes>"
      ]
     },
     "metadata": {},
     "output_type": "display_data"
    },
    {
     "data": {
      "image/png": "[encoded data removed]",
      "text/plain": [
       "<Figure size 1152x432 with 2 Axes>"
      ]
     },
     "metadata": {},
     "output_type": "display_data"
    },
    {
     "data": {
      "image/png": "[encoded data removed]",
      "text/plain": [
       "<Figure size 1152x432 with 2 Axes>"
      ]
     },
     "metadata": {},
     "output_type": "display_data"
    },
    {
     "data": {
      "image/png": "[encoded data removed]",
      "text/plain": [
       "<Figure size 1152x432 with 2 Axes>"
      ]
     },
     "metadata": {},
     "output_type": "display_data"
    },
    {
     "data": {
      "image/png": "[encoded data removed]",
      "text/plain": [
       "<Figure size 1152x432 with 2 Axes>"
      ]
     },
     "metadata": {},
     "output_type": "display_data"
    }
   ],
   "source": [
    "my_columns = ['total day calls','total eve calls','total night calls','total intl calls', 'account length']\n",
    "plot_hist_box(my_columns, data)"
   ]
  },
  {
   "cell_type": "code",
   "execution_count": 20,
   "id": "f8d1f033",
   "metadata": {},
   "outputs": [
    {
     "name": "stdout",
     "output_type": "stream",
     "text": [
      "What % of distribution the target in outliers has in given columns: \n",
      "\n",
      "TOTAL DAY CALLS\n",
      "False    0.695652\n",
      "True     0.304348\n",
      "Name: churn, dtype: float64\n",
      "-------------------------------------\n",
      "TOTAL EVE CALLS\n",
      "False    0.9\n",
      "True     0.1\n",
      "Name: churn, dtype: float64\n",
      "-------------------------------------\n",
      "TOTAL NIGHT CALLS\n",
      "False    0.954545\n",
      "True     0.045455\n",
      "Name: churn, dtype: float64\n",
      "-------------------------------------\n",
      "TOTAL INTL CALLS\n",
      "False    0.858974\n",
      "True     0.141026\n",
      "Name: churn, dtype: float64\n",
      "-------------------------------------\n",
      "ACCOUNT LENGTH\n",
      "False    0.722222\n",
      "True     0.277778\n",
      "Name: churn, dtype: float64\n",
      "-------------------------------------\n"
     ]
    },
    {
     "data": {
      "text/html": [
       "<div>\n",
       "<style scoped>\n",
       "    .dataframe tbody tr th:only-of-type {\n",
       "        vertical-align: middle;\n",
       "    }\n",
       "\n",
       "    .dataframe tbody tr th {\n",
       "        vertical-align: top;\n",
       "    }\n",
       "\n",
       "    .dataframe thead th {\n",
       "        text-align: right;\n",
       "    }\n",
       "</style>\n",
       "<table border=\"1\" class=\"dataframe\">\n",
       "  <thead>\n",
       "    <tr style=\"text-align: right;\">\n",
       "      <th></th>\n",
       "      <th>columns</th>\n",
       "      <th>fence_low</th>\n",
       "      <th>cnt_low</th>\n",
       "      <th>fence_high</th>\n",
       "      <th>cnt_high</th>\n",
       "    </tr>\n",
       "  </thead>\n",
       "  <tbody>\n",
       "    <tr>\n",
       "      <th>0</th>\n",
       "      <td>total day calls</td>\n",
       "      <td>46.5</td>\n",
       "      <td>15</td>\n",
       "      <td>154.5</td>\n",
       "      <td>8</td>\n",
       "    </tr>\n",
       "    <tr>\n",
       "      <th>1</th>\n",
       "      <td>total eve calls</td>\n",
       "      <td>46.5</td>\n",
       "      <td>11</td>\n",
       "      <td>154.5</td>\n",
       "      <td>9</td>\n",
       "    </tr>\n",
       "    <tr>\n",
       "      <th>2</th>\n",
       "      <td>total night calls</td>\n",
       "      <td>48.0</td>\n",
       "      <td>8</td>\n",
       "      <td>152.0</td>\n",
       "      <td>18</td>\n",
       "    </tr>\n",
       "    <tr>\n",
       "      <th>3</th>\n",
       "      <td>total intl calls</td>\n",
       "      <td>-1.5</td>\n",
       "      <td>0</td>\n",
       "      <td>10.5</td>\n",
       "      <td>78</td>\n",
       "    </tr>\n",
       "    <tr>\n",
       "      <th>4</th>\n",
       "      <td>account length</td>\n",
       "      <td>-5.5</td>\n",
       "      <td>0</td>\n",
       "      <td>206.5</td>\n",
       "      <td>18</td>\n",
       "    </tr>\n",
       "  </tbody>\n",
       "</table>\n",
       "</div>"
      ],
      "text/plain": [
       "             columns  fence_low  cnt_low  fence_high  cnt_high\n",
       "0    total day calls       46.5       15       154.5         8\n",
       "1    total eve calls       46.5       11       154.5         9\n",
       "2  total night calls       48.0        8       152.0        18\n",
       "3   total intl calls       -1.5        0        10.5        78\n",
       "4     account length       -5.5        0       206.5        18"
      ]
     },
     "execution_count": 20,
     "metadata": {},
     "output_type": "execute_result"
    }
   ],
   "source": [
    "outliers_columns = ['total day calls','total eve calls','total night calls','total intl calls', 'account length']\n",
    "outliers_value = target_in_outliers(outliers_columns, 'churn', data)\n",
    "outliers_value"
   ]
  },
  {
   "cell_type": "code",
   "execution_count": 21,
   "id": "a8841d1e",
   "metadata": {
    "scrolled": false
   },
   "outputs": [
    {
     "name": "stdout",
     "output_type": "stream",
     "text": [
      "STATE\n",
      "state        AK              AL         AR           AZ                CA  \\\n",
      "churn     False      True False True False True   False    True     False   \n",
      "churn  0.942308  0.057692   0.9  0.1   0.8  0.2  0.9375  0.0625  0.735294   \n",
      "\n",
      "state            ...        VT                  WA                  WI  \\\n",
      "churn      True  ...     False      True     False      True     False   \n",
      "churn  0.264706  ...  0.890411  0.109589  0.787879  0.212121  0.910256   \n",
      "\n",
      "state                 WV                 WY            \n",
      "churn      True    False     True     False      True  \n",
      "churn  0.089744  0.90566  0.09434  0.883117  0.116883  \n",
      "\n",
      "[1 rows x 102 columns]\n",
      "-------------------------------------\n",
      "\n",
      "AREA CODE\n",
      "area code       408                 415                510         \n",
      "churn         False      True     False      True    False     True\n",
      "churn      0.854415  0.145585  0.857402  0.142598  0.85119  0.14881\n",
      "-------------------------------------\n",
      "\n",
      "INTERNATIONAL PLAN\n",
      "international plan       no                yes          \n",
      "churn                 False     True     False      True\n",
      "churn               0.88505  0.11495  0.575851  0.424149\n",
      "-------------------------------------\n",
      "\n",
      "VOICE MAIL PLAN\n",
      "voice mail plan        no                 yes          \n",
      "churn               False      True     False      True\n",
      "churn            0.832849  0.167151  0.913232  0.086768\n",
      "-------------------------------------\n",
      "\n",
      "CUSTOMER SERVICE CALLS\n",
      "customer service calls         0                   1                   2  \\\n",
      "churn                      False      True     False      True     False   \n",
      "churn                   0.868006  0.131994  0.896698  0.103302  0.885375   \n",
      "\n",
      "customer service calls                   3                   4            \\\n",
      "churn                       True     False      True     False      True   \n",
      "churn                   0.114625  0.897436  0.102564  0.542169  0.457831   \n",
      "\n",
      "customer service calls         5                   6                   7  \\\n",
      "churn                       True     False      True     False      True   \n",
      "churn                   0.606061  0.393939  0.636364  0.363636  0.555556   \n",
      "\n",
      "customer service calls               8         9  \n",
      "churn                      False False True True  \n",
      "churn                   0.444444   0.5  0.5  1.0  \n",
      "-------------------------------------\n",
      "\n"
     ]
    },
    {
     "data": {
      "image/png": "[encoded data removed]",
      "text/plain": [
       "<Figure size 1080x432 with 1 Axes>"
      ]
     },
     "metadata": {},
     "output_type": "display_data"
    },
    {
     "data": {
      "image/png": "[encoded data removed]",
      "text/plain": [
       "<Figure size 1080x432 with 1 Axes>"
      ]
     },
     "metadata": {},
     "output_type": "display_data"
    },
    {
     "data": {
      "image/png": "[encoded data removed]",
      "text/plain": [
       "<Figure size 1080x432 with 1 Axes>"
      ]
     },
     "metadata": {},
     "output_type": "display_data"
    },
    {
     "data": {
      "image/png": "[encoded data removed]",
      "text/plain": [
       "<Figure size 1080x432 with 1 Axes>"
      ]
     },
     "metadata": {},
     "output_type": "display_data"
    },
    {
     "data": {
      "image/png": "[encoded data removed]",
      "text/plain": [
       "<Figure size 1080x432 with 1 Axes>"
      ]
     },
     "metadata": {},
     "output_type": "display_data"
    }
   ],
   "source": [
    "columns = ['state', 'area code', 'international plan', 'voice mail plan', 'customer service calls']\n",
    "compare_with_target(columns, 'churn', data)"
   ]
  },
  {
   "cell_type": "code",
   "execution_count": 22,
   "id": "e09afce6",
   "metadata": {
    "scrolled": true
   },
   "outputs": [
    {
     "data": {
      "text/html": [
       "<div>\n",
       "<style scoped>\n",
       "    .dataframe tbody tr th:only-of-type {\n",
       "        vertical-align: middle;\n",
       "    }\n",
       "\n",
       "    .dataframe tbody tr th {\n",
       "        vertical-align: top;\n",
       "    }\n",
       "\n",
       "    .dataframe thead th {\n",
       "        text-align: right;\n",
       "    }\n",
       "</style>\n",
       "<table border=\"1\" class=\"dataframe\">\n",
       "  <thead>\n",
       "    <tr style=\"text-align: right;\">\n",
       "      <th></th>\n",
       "      <th>state</th>\n",
       "      <th>churn</th>\n",
       "      <th>count</th>\n",
       "    </tr>\n",
       "  </thead>\n",
       "  <tbody>\n",
       "    <tr>\n",
       "      <th>9</th>\n",
       "      <td>CA</td>\n",
       "      <td>True</td>\n",
       "      <td>0.264706</td>\n",
       "    </tr>\n",
       "    <tr>\n",
       "      <th>63</th>\n",
       "      <td>NJ</td>\n",
       "      <td>True</td>\n",
       "      <td>0.264706</td>\n",
       "    </tr>\n",
       "    <tr>\n",
       "      <th>87</th>\n",
       "      <td>TX</td>\n",
       "      <td>True</td>\n",
       "      <td>0.250000</td>\n",
       "    </tr>\n",
       "  </tbody>\n",
       "</table>\n",
       "</div>"
      ],
      "text/plain": [
       "   state  churn     count\n",
       "9     CA   True  0.264706\n",
       "63    NJ   True  0.264706\n",
       "87    TX   True  0.250000"
      ]
     },
     "execution_count": 22,
     "metadata": {},
     "output_type": "execute_result"
    }
   ],
   "source": [
    "df_state = pd.DataFrame(data.groupby('state').churn.value_counts(normalize=True).reset_index(name='count'))\n",
    "df_state[(df_state['churn'] == True) & (df_state['count'] >= 0.25)]"
   ]
  },
  {
   "cell_type": "markdown",
   "id": "c8558111",
   "metadata": {},
   "source": [
    "### Conclusion after visualization:\n",
    "1. STATE - there is 3 state in which churn made 1 out of 4 customers (CA, NJ, TX) and 9 where 1 of 5 made churn.\n",
    "2. Variable AREA CODE doesn't seem to make much different for cusotmers churn.\n",
    "3. Variable INTERNATIONAL PLAN gives us hint about customers churn, because in case when customers have international plan, half of them made churn.\n",
    "4. VOICE MAIL PLAN for the first glance only have small contribution in helping to understand customers churn. If there is voice mail plan then probabily of churn by cutomers is greater.\n",
    "5. CUSTOMER SERVICE CALLS - we can try to make new variable where number of calls after 4 will be group together as '> 4'\n",
    "6. Rows whose values are caught as outliers contain many customers who stay loyal to telco industry (so for now we try to all data with outliers)"
   ]
  },
  {
   "cell_type": "code",
   "execution_count": 41,
   "id": "552d6e45",
   "metadata": {},
   "outputs": [
    {
     "data": {
      "text/html": [
       "\n",
       "        <script>\n",
       "            function code_toggle_5617170679736065790() {\n",
       "                $('div.cell.code_cell.rendered.selected').next().find('div.input').toggle();\n",
       "            }\n",
       "\n",
       "            $('div.cell.code_cell.rendered.selected').find(\"div.input\").hide();\n",
       "        </script>\n",
       "\n",
       "        <a href=\"javascript:code_toggle_5617170679736065790()\">Hidden function next cell</a>\n",
       "    "
      ],
      "text/plain": [
       "<IPython.core.display.HTML object>"
      ]
     },
     "execution_count": 41,
     "metadata": {},
     "output_type": "execute_result"
    }
   ],
   "source": [
    "hide_toggle(for_next=True)"
   ]
  },
  {
   "cell_type": "code",
   "execution_count": 42,
   "id": "744d3aee",
   "metadata": {
    "scrolled": false
   },
   "outputs": [],
   "source": [
    "# Try to make new variable from CUSTOMER SERVICE CALLS\n",
    "def prepare_modified_data(data):\n",
    "    new_data = data.copy()\n",
    "    \n",
    "    conditions = [\n",
    "    (new_data['customer service calls'] == 0),\n",
    "    (new_data['customer service calls'] == 1),\n",
    "    (new_data['customer service calls'] == 2),\n",
    "    (new_data['customer service calls'] == 3),\n",
    "    (new_data['customer service calls'] == 4),\n",
    "    (new_data['customer service calls'] >= 5)\n",
    "    ]\n",
    "\n",
    "    # create a list of the values we want to assign for each condition\n",
    "    values = [0,1,2,3,4,5]#['0', '1', '2', '3', '4', '5']\n",
    "\n",
    "    # create a new column and use np.select to assign values to it using our lists as arguments\n",
    "    new_data['customer calls'] = np.select(conditions, values)\n",
    "    \n",
    "    #drop old column:\n",
    "    new_data.drop(['customer service calls'], axis=1, inplace=True)\n",
    "    return new_data"
   ]
  },
  {
   "cell_type": "code",
   "execution_count": 25,
   "id": "6da83222",
   "metadata": {},
   "outputs": [],
   "source": [
    "new_data = prepare_modified_data(data)"
   ]
  },
  {
   "cell_type": "code",
   "execution_count": 26,
   "id": "122779f6",
   "metadata": {},
   "outputs": [
    {
     "data": {
      "text/html": [
       "<div>\n",
       "<style scoped>\n",
       "    .dataframe tbody tr th:only-of-type {\n",
       "        vertical-align: middle;\n",
       "    }\n",
       "\n",
       "    .dataframe tbody tr th {\n",
       "        vertical-align: top;\n",
       "    }\n",
       "\n",
       "    .dataframe thead th {\n",
       "        text-align: right;\n",
       "    }\n",
       "</style>\n",
       "<table border=\"1\" class=\"dataframe\">\n",
       "  <thead>\n",
       "    <tr style=\"text-align: right;\">\n",
       "      <th></th>\n",
       "      <th>state</th>\n",
       "      <th>account length</th>\n",
       "      <th>area code</th>\n",
       "      <th>phone number</th>\n",
       "      <th>international plan</th>\n",
       "      <th>voice mail plan</th>\n",
       "      <th>number vmail messages</th>\n",
       "      <th>total day minutes</th>\n",
       "      <th>total day calls</th>\n",
       "      <th>total day charge</th>\n",
       "      <th>...</th>\n",
       "      <th>total eve calls</th>\n",
       "      <th>total eve charge</th>\n",
       "      <th>total night minutes</th>\n",
       "      <th>total night calls</th>\n",
       "      <th>total night charge</th>\n",
       "      <th>total intl minutes</th>\n",
       "      <th>total intl calls</th>\n",
       "      <th>total intl charge</th>\n",
       "      <th>churn</th>\n",
       "      <th>customer calls</th>\n",
       "    </tr>\n",
       "  </thead>\n",
       "  <tbody>\n",
       "    <tr>\n",
       "      <th>0</th>\n",
       "      <td>KS</td>\n",
       "      <td>128</td>\n",
       "      <td>415</td>\n",
       "      <td>382-4657</td>\n",
       "      <td>no</td>\n",
       "      <td>yes</td>\n",
       "      <td>25</td>\n",
       "      <td>265.1</td>\n",
       "      <td>110</td>\n",
       "      <td>45.07</td>\n",
       "      <td>...</td>\n",
       "      <td>99</td>\n",
       "      <td>16.78</td>\n",
       "      <td>244.7</td>\n",
       "      <td>91</td>\n",
       "      <td>11.01</td>\n",
       "      <td>10.0</td>\n",
       "      <td>3</td>\n",
       "      <td>2.70</td>\n",
       "      <td>False</td>\n",
       "      <td>1</td>\n",
       "    </tr>\n",
       "    <tr>\n",
       "      <th>1</th>\n",
       "      <td>OH</td>\n",
       "      <td>107</td>\n",
       "      <td>415</td>\n",
       "      <td>371-7191</td>\n",
       "      <td>no</td>\n",
       "      <td>yes</td>\n",
       "      <td>26</td>\n",
       "      <td>161.6</td>\n",
       "      <td>123</td>\n",
       "      <td>27.47</td>\n",
       "      <td>...</td>\n",
       "      <td>103</td>\n",
       "      <td>16.62</td>\n",
       "      <td>254.4</td>\n",
       "      <td>103</td>\n",
       "      <td>11.45</td>\n",
       "      <td>13.7</td>\n",
       "      <td>3</td>\n",
       "      <td>3.70</td>\n",
       "      <td>False</td>\n",
       "      <td>1</td>\n",
       "    </tr>\n",
       "    <tr>\n",
       "      <th>2</th>\n",
       "      <td>NJ</td>\n",
       "      <td>137</td>\n",
       "      <td>415</td>\n",
       "      <td>358-1921</td>\n",
       "      <td>no</td>\n",
       "      <td>no</td>\n",
       "      <td>0</td>\n",
       "      <td>243.4</td>\n",
       "      <td>114</td>\n",
       "      <td>41.38</td>\n",
       "      <td>...</td>\n",
       "      <td>110</td>\n",
       "      <td>10.30</td>\n",
       "      <td>162.6</td>\n",
       "      <td>104</td>\n",
       "      <td>7.32</td>\n",
       "      <td>12.2</td>\n",
       "      <td>5</td>\n",
       "      <td>3.29</td>\n",
       "      <td>False</td>\n",
       "      <td>0</td>\n",
       "    </tr>\n",
       "  </tbody>\n",
       "</table>\n",
       "<p>3 rows × 21 columns</p>\n",
       "</div>"
      ],
      "text/plain": [
       "  state  account length  area code phone number international plan  \\\n",
       "0    KS             128        415     382-4657                 no   \n",
       "1    OH             107        415     371-7191                 no   \n",
       "2    NJ             137        415     358-1921                 no   \n",
       "\n",
       "  voice mail plan  number vmail messages  total day minutes  total day calls  \\\n",
       "0             yes                     25              265.1              110   \n",
       "1             yes                     26              161.6              123   \n",
       "2              no                      0              243.4              114   \n",
       "\n",
       "   total day charge  ...  total eve calls  total eve charge  \\\n",
       "0             45.07  ...               99             16.78   \n",
       "1             27.47  ...              103             16.62   \n",
       "2             41.38  ...              110             10.30   \n",
       "\n",
       "   total night minutes  total night calls  total night charge  \\\n",
       "0                244.7                 91               11.01   \n",
       "1                254.4                103               11.45   \n",
       "2                162.6                104                7.32   \n",
       "\n",
       "   total intl minutes  total intl calls  total intl charge  churn  \\\n",
       "0                10.0                 3               2.70  False   \n",
       "1                13.7                 3               3.70  False   \n",
       "2                12.2                 5               3.29  False   \n",
       "\n",
       "   customer calls  \n",
       "0               1  \n",
       "1               1  \n",
       "2               0  \n",
       "\n",
       "[3 rows x 21 columns]"
      ]
     },
     "execution_count": 26,
     "metadata": {},
     "output_type": "execute_result"
    }
   ],
   "source": [
    "# display updated DataFrame\n",
    "new_data.head(3)"
   ]
  },
  {
   "cell_type": "code",
   "execution_count": 27,
   "id": "e1780bcc",
   "metadata": {},
   "outputs": [
    {
     "data": {
      "text/plain": [
       "True     0.613861\n",
       "False    0.386139\n",
       "Name: churn, dtype: float64"
      ]
     },
     "execution_count": 27,
     "metadata": {},
     "output_type": "execute_result"
    }
   ],
   "source": [
    "new_data[(new_data['customer calls'] == 5)]['churn'].value_counts(normalize=True)"
   ]
  },
  {
   "cell_type": "markdown",
   "id": "7e86fd36",
   "metadata": {},
   "source": [
    "#### Making 2 datasets:\n",
    "- one with no changes -> data\n",
    "- other with minor changes ( -> new_data):\n",
    "    * dropping columns: 'customer service calls'\n",
    "    * makes new variable 'customer calls' from 'customer service calls'"
   ]
  },
  {
   "cell_type": "code",
   "execution_count": 28,
   "id": "29807555",
   "metadata": {},
   "outputs": [
    {
     "name": "stdout",
     "output_type": "stream",
     "text": [
      "(3333, 21)\n",
      "(3333, 21)\n"
     ]
    }
   ],
   "source": [
    "print(new_data.shape)\n",
    "print(data.shape)"
   ]
  },
  {
   "cell_type": "markdown",
   "id": "a6d37fc9",
   "metadata": {},
   "source": [
    "### Correlation and minor modification of data (using data without changes)"
   ]
  },
  {
   "cell_type": "code",
   "execution_count": 43,
   "id": "4f9c6c98",
   "metadata": {},
   "outputs": [
    {
     "data": {
      "text/html": [
       "\n",
       "        <script>\n",
       "            function code_toggle_2419649228940351717() {\n",
       "                $('div.cell.code_cell.rendered.selected').next().find('div.input').toggle();\n",
       "            }\n",
       "\n",
       "            $('div.cell.code_cell.rendered.selected').find(\"div.input\").hide();\n",
       "        </script>\n",
       "\n",
       "        <a href=\"javascript:code_toggle_2419649228940351717()\">Hidden function next cell</a>\n",
       "    "
      ],
      "text/plain": [
       "<IPython.core.display.HTML object>"
      ]
     },
     "execution_count": 43,
     "metadata": {},
     "output_type": "execute_result"
    }
   ],
   "source": [
    "hide_toggle(for_next=True)"
   ]
  },
  {
   "cell_type": "code",
   "execution_count": 44,
   "id": "ddeba8ec",
   "metadata": {},
   "outputs": [],
   "source": [
    "def basic_preprocess(data, target, col_to_drop: list = None, plot_corr='no', divide='no', label_exist: dict = None):\n",
    "    \"\"\"\n",
    "    Parameters:\n",
    "    > data: our dataset\n",
    "    > target: our prediction column\n",
    "    > col_to_drop: columns to drop from dataset - names of columns need to be put into a list\n",
    "    > plot_corr: if we want to plot corellation matrix from our data. Default='no'  ['no', 'yes']\n",
    "    > divide: if we want to divide our data into X and y data. Default='no' ['no', 'yes']\n",
    "    \n",
    "    This function makes categorical column into numeric with LabelEncoder, divide data \n",
    "    into 2 set: X, y and plot correlation matrix after dropping wanted columns.\n",
    "    \"\"\"\n",
    "    if col_to_drop:\n",
    "        data = data.drop(col_to_drop, axis=1)\n",
    "    \n",
    "    cat_col = [col for col in data.columns if data[col].dtype in ['bool', 'object']]\n",
    "    print(f\"Column to encode: {cat_col}\")\n",
    "\n",
    "    col_to_label = []\n",
    "    for col in cat_col:\n",
    "        b = [value for value in data[col].unique() if value not in ['yes', 'no', True, False]]\n",
    "        if len(b) > 0:\n",
    "            col_to_label.append(col)\n",
    "        else:\n",
    "            data[col] = data[col].apply(lambda x: 0 if x in ['no', False] else 1)\n",
    "    print(f\"Column to encoder: {len(col_to_label)}\")\n",
    "    \n",
    "    if label_exist == None and len(col_to_label) == 1:\n",
    "        encoder = LabelEncoder()\n",
    "        encoder.fit(data[col_to_label[0]])\n",
    "        label_exist = dict(zip(encoder.classes_, encoder.transform(encoder.classes_)))\n",
    "        print(label_exist)\n",
    "            \n",
    "    if col_to_label == ['state']:\n",
    "        data['state_name'] = data['state'].map(label_exist)  \n",
    "        data.drop(['state'], axis=1, inplace=True)\n",
    "        data.rename(columns = {'state_name':'state'}, inplace = True)\n",
    "                    \n",
    "    if plot_corr == 'yes':\n",
    "        f, ax = plt.subplots(figsize=(20, 20))\n",
    "        sns.heatmap(data.corr(method='pearson'), square=True, annot = True)\n",
    "        plt.title(\"Correlation map\", fontsize=12)\n",
    "        plt.show()\n",
    "    \n",
    "    if divide == 'no':\n",
    "        return data, label_exist\n",
    "    else:\n",
    "        data_y = data.pop(target)\n",
    "        data_X = data\n",
    "        return data_X, data_y, label_exist"
   ]
  },
  {
   "cell_type": "code",
   "execution_count": 31,
   "id": "15066305",
   "metadata": {
    "scrolled": false
   },
   "outputs": [
    {
     "name": "stdout",
     "output_type": "stream",
     "text": [
      "Column to encode: ['state', 'international plan', 'voice mail plan', 'churn']\n",
      "Column to encoder: 1\n",
      "{'AK': 0, 'AL': 1, 'AR': 2, 'AZ': 3, 'CA': 4, 'CO': 5, 'CT': 6, 'DC': 7, 'DE': 8, 'FL': 9, 'GA': 10, 'HI': 11, 'IA': 12, 'ID': 13, 'IL': 14, 'IN': 15, 'KS': 16, 'KY': 17, 'LA': 18, 'MA': 19, 'MD': 20, 'ME': 21, 'MI': 22, 'MN': 23, 'MO': 24, 'MS': 25, 'MT': 26, 'NC': 27, 'ND': 28, 'NE': 29, 'NH': 30, 'NJ': 31, 'NM': 32, 'NV': 33, 'NY': 34, 'OH': 35, 'OK': 36, 'OR': 37, 'PA': 38, 'RI': 39, 'SC': 40, 'SD': 41, 'TN': 42, 'TX': 43, 'UT': 44, 'VA': 45, 'VT': 46, 'WA': 47, 'WI': 48, 'WV': 49, 'WY': 50}\n"
     ]
    },
    {
     "data": {
      "image/png": "[encoded data removed]",
      "text/plain": [
       "<Figure size 1440x1440 with 2 Axes>"
      ]
     },
     "metadata": {},
     "output_type": "display_data"
    }
   ],
   "source": [
    "X, y, dict_with_mapping = basic_preprocess(data=data, \n",
    "                                           target='churn', \n",
    "                                           plot_corr='yes', \n",
    "                                           col_to_drop=['phone number'], \n",
    "                                           divide='yes')"
   ]
  },
  {
   "cell_type": "code",
   "execution_count": 32,
   "id": "c6613108",
   "metadata": {},
   "outputs": [
    {
     "data": {
      "text/html": [
       "<div>\n",
       "<style scoped>\n",
       "    .dataframe tbody tr th:only-of-type {\n",
       "        vertical-align: middle;\n",
       "    }\n",
       "\n",
       "    .dataframe tbody tr th {\n",
       "        vertical-align: top;\n",
       "    }\n",
       "\n",
       "    .dataframe thead th {\n",
       "        text-align: right;\n",
       "    }\n",
       "</style>\n",
       "<table border=\"1\" class=\"dataframe\">\n",
       "  <thead>\n",
       "    <tr style=\"text-align: right;\">\n",
       "      <th></th>\n",
       "      <th>account length</th>\n",
       "      <th>area code</th>\n",
       "      <th>international plan</th>\n",
       "      <th>voice mail plan</th>\n",
       "      <th>number vmail messages</th>\n",
       "      <th>total day minutes</th>\n",
       "      <th>total day calls</th>\n",
       "      <th>total day charge</th>\n",
       "      <th>total eve minutes</th>\n",
       "      <th>total eve calls</th>\n",
       "      <th>total eve charge</th>\n",
       "      <th>total night minutes</th>\n",
       "      <th>total night calls</th>\n",
       "      <th>total night charge</th>\n",
       "      <th>total intl minutes</th>\n",
       "      <th>total intl calls</th>\n",
       "      <th>total intl charge</th>\n",
       "      <th>customer service calls</th>\n",
       "      <th>state</th>\n",
       "    </tr>\n",
       "  </thead>\n",
       "  <tbody>\n",
       "    <tr>\n",
       "      <th>0</th>\n",
       "      <td>128</td>\n",
       "      <td>415</td>\n",
       "      <td>0</td>\n",
       "      <td>1</td>\n",
       "      <td>25</td>\n",
       "      <td>265.1</td>\n",
       "      <td>110</td>\n",
       "      <td>45.07</td>\n",
       "      <td>197.4</td>\n",
       "      <td>99</td>\n",
       "      <td>16.78</td>\n",
       "      <td>244.7</td>\n",
       "      <td>91</td>\n",
       "      <td>11.01</td>\n",
       "      <td>10.0</td>\n",
       "      <td>3</td>\n",
       "      <td>2.70</td>\n",
       "      <td>1</td>\n",
       "      <td>16</td>\n",
       "    </tr>\n",
       "    <tr>\n",
       "      <th>1</th>\n",
       "      <td>107</td>\n",
       "      <td>415</td>\n",
       "      <td>0</td>\n",
       "      <td>1</td>\n",
       "      <td>26</td>\n",
       "      <td>161.6</td>\n",
       "      <td>123</td>\n",
       "      <td>27.47</td>\n",
       "      <td>195.5</td>\n",
       "      <td>103</td>\n",
       "      <td>16.62</td>\n",
       "      <td>254.4</td>\n",
       "      <td>103</td>\n",
       "      <td>11.45</td>\n",
       "      <td>13.7</td>\n",
       "      <td>3</td>\n",
       "      <td>3.70</td>\n",
       "      <td>1</td>\n",
       "      <td>35</td>\n",
       "    </tr>\n",
       "    <tr>\n",
       "      <th>2</th>\n",
       "      <td>137</td>\n",
       "      <td>415</td>\n",
       "      <td>0</td>\n",
       "      <td>0</td>\n",
       "      <td>0</td>\n",
       "      <td>243.4</td>\n",
       "      <td>114</td>\n",
       "      <td>41.38</td>\n",
       "      <td>121.2</td>\n",
       "      <td>110</td>\n",
       "      <td>10.30</td>\n",
       "      <td>162.6</td>\n",
       "      <td>104</td>\n",
       "      <td>7.32</td>\n",
       "      <td>12.2</td>\n",
       "      <td>5</td>\n",
       "      <td>3.29</td>\n",
       "      <td>0</td>\n",
       "      <td>31</td>\n",
       "    </tr>\n",
       "    <tr>\n",
       "      <th>3</th>\n",
       "      <td>84</td>\n",
       "      <td>408</td>\n",
       "      <td>1</td>\n",
       "      <td>0</td>\n",
       "      <td>0</td>\n",
       "      <td>299.4</td>\n",
       "      <td>71</td>\n",
       "      <td>50.90</td>\n",
       "      <td>61.9</td>\n",
       "      <td>88</td>\n",
       "      <td>5.26</td>\n",
       "      <td>196.9</td>\n",
       "      <td>89</td>\n",
       "      <td>8.86</td>\n",
       "      <td>6.6</td>\n",
       "      <td>7</td>\n",
       "      <td>1.78</td>\n",
       "      <td>2</td>\n",
       "      <td>35</td>\n",
       "    </tr>\n",
       "    <tr>\n",
       "      <th>4</th>\n",
       "      <td>75</td>\n",
       "      <td>415</td>\n",
       "      <td>1</td>\n",
       "      <td>0</td>\n",
       "      <td>0</td>\n",
       "      <td>166.7</td>\n",
       "      <td>113</td>\n",
       "      <td>28.34</td>\n",
       "      <td>148.3</td>\n",
       "      <td>122</td>\n",
       "      <td>12.61</td>\n",
       "      <td>186.9</td>\n",
       "      <td>121</td>\n",
       "      <td>8.41</td>\n",
       "      <td>10.1</td>\n",
       "      <td>3</td>\n",
       "      <td>2.73</td>\n",
       "      <td>3</td>\n",
       "      <td>36</td>\n",
       "    </tr>\n",
       "  </tbody>\n",
       "</table>\n",
       "</div>"
      ],
      "text/plain": [
       "   account length  area code  international plan  voice mail plan  \\\n",
       "0             128        415                   0                1   \n",
       "1             107        415                   0                1   \n",
       "2             137        415                   0                0   \n",
       "3              84        408                   1                0   \n",
       "4              75        415                   1                0   \n",
       "\n",
       "   number vmail messages  total day minutes  total day calls  \\\n",
       "0                     25              265.1              110   \n",
       "1                     26              161.6              123   \n",
       "2                      0              243.4              114   \n",
       "3                      0              299.4               71   \n",
       "4                      0              166.7              113   \n",
       "\n",
       "   total day charge  total eve minutes  total eve calls  total eve charge  \\\n",
       "0             45.07              197.4               99             16.78   \n",
       "1             27.47              195.5              103             16.62   \n",
       "2             41.38              121.2              110             10.30   \n",
       "3             50.90               61.9               88              5.26   \n",
       "4             28.34              148.3              122             12.61   \n",
       "\n",
       "   total night minutes  total night calls  total night charge  \\\n",
       "0                244.7                 91               11.01   \n",
       "1                254.4                103               11.45   \n",
       "2                162.6                104                7.32   \n",
       "3                196.9                 89                8.86   \n",
       "4                186.9                121                8.41   \n",
       "\n",
       "   total intl minutes  total intl calls  total intl charge  \\\n",
       "0                10.0                 3               2.70   \n",
       "1                13.7                 3               3.70   \n",
       "2                12.2                 5               3.29   \n",
       "3                 6.6                 7               1.78   \n",
       "4                10.1                 3               2.73   \n",
       "\n",
       "   customer service calls  state  \n",
       "0                       1     16  \n",
       "1                       1     35  \n",
       "2                       0     31  \n",
       "3                       2     35  \n",
       "4                       3     36  "
      ]
     },
     "execution_count": 32,
     "metadata": {},
     "output_type": "execute_result"
    }
   ],
   "source": [
    "X.head()"
   ]
  },
  {
   "cell_type": "code",
   "execution_count": 33,
   "id": "21418d67",
   "metadata": {
    "scrolled": false
   },
   "outputs": [
    {
     "data": {
      "image/png": "[encoded data removed]",
      "text/plain": [
       "<Figure size 1008x360 with 1 Axes>"
      ]
     },
     "metadata": {},
     "output_type": "display_data"
    }
   ],
   "source": [
    "corr_plot(data, 'churn')"
   ]
  },
  {
   "cell_type": "markdown",
   "id": "8e887b8c",
   "metadata": {},
   "source": [
    "We can see which columns are higly correleted with each other and with predicted variable. We will try to use data with them in our models but also without them."
   ]
  },
  {
   "cell_type": "code",
   "execution_count": 34,
   "id": "07fc8040",
   "metadata": {},
   "outputs": [
    {
     "data": {
      "text/plain": [
       "['total day charge',\n",
       " 'total eve charge',\n",
       " 'total night charge',\n",
       " 'total intl charge']"
      ]
     },
     "execution_count": 34,
     "metadata": {},
     "output_type": "execute_result"
    }
   ],
   "source": [
    "columns_high_corr = col_to_drop_after_high_corr(data, 0.9)\n",
    "columns_high_corr"
   ]
  },
  {
   "cell_type": "markdown",
   "id": "b8ae2438",
   "metadata": {},
   "source": [
    "[Go back to the table of contents](#0-bullet)"
   ]
  },
  {
   "cell_type": "markdown",
   "id": "db5c21ba",
   "metadata": {},
   "source": [
    "## 5. Feature selection and dimension reduction <a class=\"anchor\" id=\"5-bullet\"></a>"
   ]
  },
  {
   "cell_type": "code",
   "execution_count": 35,
   "id": "f49c6273",
   "metadata": {},
   "outputs": [],
   "source": [
    "normalizer = Normalizer()\n",
    "standarizer = StandardScaler()\n",
    "minmaxscaler = MinMaxScaler()"
   ]
  },
  {
   "cell_type": "markdown",
   "id": "b0275694",
   "metadata": {},
   "source": [
    "#### Selecting features by few methods:"
   ]
  },
  {
   "cell_type": "code",
   "execution_count": 29,
   "id": "f0539f2a",
   "metadata": {},
   "outputs": [
    {
     "name": "stdout",
     "output_type": "stream",
     "text": [
      "Column to encode: ['state', 'international plan', 'voice mail plan', 'churn']\n",
      "Column to encoder: 1\n"
     ]
    }
   ],
   "source": [
    "# How many features we want to select:\n",
    "X, y, mapp = basic_preprocess(data=data, \n",
    "                        target='churn', \n",
    "                        divide='yes',\n",
    "                        col_to_drop=['phone number'],\n",
    "                        label_exist = dict_with_mapping\n",
    "                       )"
   ]
  },
  {
   "cell_type": "code",
   "execution_count": 45,
   "id": "8886dc88",
   "metadata": {},
   "outputs": [],
   "source": [
    "# How many features we want to select:\n",
    "feature_name = list(X.columns)\n",
    "num_feats = 12\n",
    "random_state = 42\n",
    "preprocessor = minmaxscaler"
   ]
  },
  {
   "cell_type": "code",
   "execution_count": 31,
   "id": "9f6c7bf8",
   "metadata": {},
   "outputs": [],
   "source": [
    "X_train, X_test, y_train, y_test = train_test_split(X, y, test_size=0.2, random_state=random_state, stratify = y)"
   ]
  },
  {
   "cell_type": "code",
   "execution_count": 32,
   "id": "b04f3978",
   "metadata": {},
   "outputs": [
    {
     "data": {
      "text/html": [
       "\n",
       "        <script>\n",
       "            function code_toggle_388514905407910851() {\n",
       "                $('div.cell.code_cell.rendered.selected').next().find('div.input').toggle();\n",
       "            }\n",
       "\n",
       "            $('div.cell.code_cell.rendered.selected').find(\"div.input\").hide();\n",
       "        </script>\n",
       "\n",
       "        <a href=\"javascript:code_toggle_388514905407910851()\">Hidden function next cell</a>\n",
       "    "
      ],
      "text/plain": [
       "<IPython.core.display.HTML object>"
      ]
     },
     "execution_count": 32,
     "metadata": {},
     "output_type": "execute_result"
    }
   ],
   "source": [
    "hide_toggle(for_next=True)"
   ]
  },
  {
   "cell_type": "code",
   "execution_count": 33,
   "id": "51f48d1b",
   "metadata": {},
   "outputs": [],
   "source": [
    "def selecting_features(X, y, preprocessor, num_feats):\n",
    "\n",
    "    X_norm = preprocessing(X, preprocessor)\n",
    "    support_metrics = []\n",
    "    cor_list = []\n",
    "    \n",
    "    feature_name = X.columns.tolist()\n",
    "    for i in X.columns.tolist():\n",
    "        cor = np.corrcoef(X[i], y)[0, 1]\n",
    "        cor_list.append(cor)\n",
    "    cor_list = [0 if np.isnan(i) else i for i in cor_list]\n",
    "    cor_feature = X.iloc[:,np.argsort(np.abs(cor_list))[-num_feats:]].columns.tolist()\n",
    "    cor_support = [True if i in cor_feature else False for i in feature_name]\n",
    "    print('Pearson correlation:', str(len(cor_feature)), 'selected features')\n",
    "    support_metrics.append({'name': 'pearson_cor',\n",
    "                            'support': cor_support})\n",
    "\n",
    "    models = {'chi_square': SelectKBest(chi2, k=num_feats),\n",
    "              'rfe': RFE(estimator=LogisticRegression(), \n",
    "                                     n_features_to_select=num_feats, \n",
    "                                     step=10, \n",
    "                                     verbose=5),\n",
    "              'lr_lasso': SelectFromModel(LogisticRegression(penalty=\"l2\"), \n",
    "                                          max_features=num_feats),\n",
    "              'tree': SelectFromModel(RandomForestClassifier(n_estimators=100), \n",
    "                                      max_features=num_feats) \n",
    "            }\n",
    "    \n",
    "    for name, model in models.items():\n",
    "        selector = model\n",
    "        selector.fit(X_norm, y)\n",
    "        support = selector.get_support()\n",
    "        print(f'{name} selector', str(len(X.loc[:,support].columns.tolist())), 'selected features')\n",
    "        support_metrics.append({'name': name,\n",
    "                                'support': support})\n",
    "    \n",
    "    return support_metrics"
   ]
  },
  {
   "cell_type": "code",
   "execution_count": 34,
   "id": "8ee2f77b",
   "metadata": {},
   "outputs": [
    {
     "name": "stdout",
     "output_type": "stream",
     "text": [
      "Pearson correlation: 12 selected features\n",
      "chi_square selector 12 selected features\n",
      "Fitting estimator with 19 features.\n",
      "rfe selector 12 selected features\n",
      "lr_lasso selector 8 selected features\n",
      "tree selector 6 selected features\n"
     ]
    }
   ],
   "source": [
    "support_metrics = selecting_features(X_train, y_train, preprocessor, num_feats)"
   ]
  },
  {
   "cell_type": "code",
   "execution_count": 35,
   "id": "bc59dd22",
   "metadata": {},
   "outputs": [
    {
     "name": "stdout",
     "output_type": "stream",
     "text": [
      "pearson_cor\n",
      "chi_square\n",
      "rfe\n",
      "lr_lasso\n",
      "tree\n"
     ]
    }
   ],
   "source": [
    "for n in range(5):\n",
    "    print(support_metrics[n].get('name'))"
   ]
  },
  {
   "cell_type": "code",
   "execution_count": 36,
   "id": "5d60f910",
   "metadata": {
    "scrolled": false
   },
   "outputs": [
    {
     "name": "stdout",
     "output_type": "stream",
     "text": [
      "Name of this dataframe: 'feature_selection_df'\n"
     ]
    },
    {
     "name": "stderr",
     "output_type": "stream",
     "text": [
      "C:\\Users\\admin\\anaconda3\\lib\\site-packages\\numpy\\core\\fromnumeric.py:84: FutureWarning: Dropping of nuisance columns in DataFrame reductions (with 'numeric_only=None') is deprecated; in a future version this will raise TypeError.  Select only valid columns before calling the reduction.\n",
      "  return reduction(axis=axis, out=out, **passkwargs)\n"
     ]
    },
    {
     "data": {
      "text/html": [
       "<div>\n",
       "<style scoped>\n",
       "    .dataframe tbody tr th:only-of-type {\n",
       "        vertical-align: middle;\n",
       "    }\n",
       "\n",
       "    .dataframe tbody tr th {\n",
       "        vertical-align: top;\n",
       "    }\n",
       "\n",
       "    .dataframe thead th {\n",
       "        text-align: right;\n",
       "    }\n",
       "</style>\n",
       "<table border=\"1\" class=\"dataframe\">\n",
       "  <thead>\n",
       "    <tr style=\"text-align: right;\">\n",
       "      <th></th>\n",
       "      <th>Feature</th>\n",
       "      <th>Pearson</th>\n",
       "      <th>Chi-2</th>\n",
       "      <th>RFE</th>\n",
       "      <th>Logistics</th>\n",
       "      <th>Random Forest</th>\n",
       "      <th>Total</th>\n",
       "    </tr>\n",
       "  </thead>\n",
       "  <tbody>\n",
       "    <tr>\n",
       "      <th>1</th>\n",
       "      <td>total eve minutes</td>\n",
       "      <td>True</td>\n",
       "      <td>True</td>\n",
       "      <td>True</td>\n",
       "      <td>True</td>\n",
       "      <td>True</td>\n",
       "      <td>5</td>\n",
       "    </tr>\n",
       "    <tr>\n",
       "      <th>2</th>\n",
       "      <td>total eve charge</td>\n",
       "      <td>True</td>\n",
       "      <td>True</td>\n",
       "      <td>True</td>\n",
       "      <td>True</td>\n",
       "      <td>True</td>\n",
       "      <td>5</td>\n",
       "    </tr>\n",
       "    <tr>\n",
       "      <th>3</th>\n",
       "      <td>total day minutes</td>\n",
       "      <td>True</td>\n",
       "      <td>True</td>\n",
       "      <td>True</td>\n",
       "      <td>True</td>\n",
       "      <td>True</td>\n",
       "      <td>5</td>\n",
       "    </tr>\n",
       "    <tr>\n",
       "      <th>4</th>\n",
       "      <td>total day charge</td>\n",
       "      <td>True</td>\n",
       "      <td>True</td>\n",
       "      <td>True</td>\n",
       "      <td>True</td>\n",
       "      <td>True</td>\n",
       "      <td>5</td>\n",
       "    </tr>\n",
       "    <tr>\n",
       "      <th>5</th>\n",
       "      <td>international plan</td>\n",
       "      <td>True</td>\n",
       "      <td>True</td>\n",
       "      <td>True</td>\n",
       "      <td>True</td>\n",
       "      <td>True</td>\n",
       "      <td>5</td>\n",
       "    </tr>\n",
       "    <tr>\n",
       "      <th>6</th>\n",
       "      <td>customer service calls</td>\n",
       "      <td>True</td>\n",
       "      <td>True</td>\n",
       "      <td>True</td>\n",
       "      <td>True</td>\n",
       "      <td>True</td>\n",
       "      <td>5</td>\n",
       "    </tr>\n",
       "    <tr>\n",
       "      <th>7</th>\n",
       "      <td>voice mail plan</td>\n",
       "      <td>True</td>\n",
       "      <td>True</td>\n",
       "      <td>True</td>\n",
       "      <td>True</td>\n",
       "      <td>False</td>\n",
       "      <td>4</td>\n",
       "    </tr>\n",
       "    <tr>\n",
       "      <th>8</th>\n",
       "      <td>total intl calls</td>\n",
       "      <td>True</td>\n",
       "      <td>True</td>\n",
       "      <td>True</td>\n",
       "      <td>True</td>\n",
       "      <td>False</td>\n",
       "      <td>4</td>\n",
       "    </tr>\n",
       "    <tr>\n",
       "      <th>9</th>\n",
       "      <td>total intl minutes</td>\n",
       "      <td>True</td>\n",
       "      <td>True</td>\n",
       "      <td>True</td>\n",
       "      <td>False</td>\n",
       "      <td>False</td>\n",
       "      <td>3</td>\n",
       "    </tr>\n",
       "    <tr>\n",
       "      <th>10</th>\n",
       "      <td>total intl charge</td>\n",
       "      <td>True</td>\n",
       "      <td>True</td>\n",
       "      <td>True</td>\n",
       "      <td>False</td>\n",
       "      <td>False</td>\n",
       "      <td>3</td>\n",
       "    </tr>\n",
       "    <tr>\n",
       "      <th>11</th>\n",
       "      <td>number vmail messages</td>\n",
       "      <td>True</td>\n",
       "      <td>True</td>\n",
       "      <td>True</td>\n",
       "      <td>False</td>\n",
       "      <td>False</td>\n",
       "      <td>3</td>\n",
       "    </tr>\n",
       "    <tr>\n",
       "      <th>12</th>\n",
       "      <td>total day calls</td>\n",
       "      <td>True</td>\n",
       "      <td>False</td>\n",
       "      <td>True</td>\n",
       "      <td>False</td>\n",
       "      <td>False</td>\n",
       "      <td>2</td>\n",
       "    </tr>\n",
       "    <tr>\n",
       "      <th>13</th>\n",
       "      <td>account length</td>\n",
       "      <td>False</td>\n",
       "      <td>True</td>\n",
       "      <td>False</td>\n",
       "      <td>False</td>\n",
       "      <td>False</td>\n",
       "      <td>1</td>\n",
       "    </tr>\n",
       "    <tr>\n",
       "      <th>14</th>\n",
       "      <td>total night minutes</td>\n",
       "      <td>False</td>\n",
       "      <td>False</td>\n",
       "      <td>False</td>\n",
       "      <td>False</td>\n",
       "      <td>False</td>\n",
       "      <td>0</td>\n",
       "    </tr>\n",
       "    <tr>\n",
       "      <th>15</th>\n",
       "      <td>total night charge</td>\n",
       "      <td>False</td>\n",
       "      <td>False</td>\n",
       "      <td>False</td>\n",
       "      <td>False</td>\n",
       "      <td>False</td>\n",
       "      <td>0</td>\n",
       "    </tr>\n",
       "    <tr>\n",
       "      <th>16</th>\n",
       "      <td>total night calls</td>\n",
       "      <td>False</td>\n",
       "      <td>False</td>\n",
       "      <td>False</td>\n",
       "      <td>False</td>\n",
       "      <td>False</td>\n",
       "      <td>0</td>\n",
       "    </tr>\n",
       "    <tr>\n",
       "      <th>17</th>\n",
       "      <td>total eve calls</td>\n",
       "      <td>False</td>\n",
       "      <td>False</td>\n",
       "      <td>False</td>\n",
       "      <td>False</td>\n",
       "      <td>False</td>\n",
       "      <td>0</td>\n",
       "    </tr>\n",
       "    <tr>\n",
       "      <th>18</th>\n",
       "      <td>state</td>\n",
       "      <td>False</td>\n",
       "      <td>False</td>\n",
       "      <td>False</td>\n",
       "      <td>False</td>\n",
       "      <td>False</td>\n",
       "      <td>0</td>\n",
       "    </tr>\n",
       "    <tr>\n",
       "      <th>19</th>\n",
       "      <td>area code</td>\n",
       "      <td>False</td>\n",
       "      <td>False</td>\n",
       "      <td>False</td>\n",
       "      <td>False</td>\n",
       "      <td>False</td>\n",
       "      <td>0</td>\n",
       "    </tr>\n",
       "  </tbody>\n",
       "</table>\n",
       "</div>"
      ],
      "text/plain": [
       "                   Feature  Pearson  Chi-2    RFE  Logistics  Random Forest  \\\n",
       "1        total eve minutes     True   True   True       True           True   \n",
       "2         total eve charge     True   True   True       True           True   \n",
       "3        total day minutes     True   True   True       True           True   \n",
       "4         total day charge     True   True   True       True           True   \n",
       "5       international plan     True   True   True       True           True   \n",
       "6   customer service calls     True   True   True       True           True   \n",
       "7          voice mail plan     True   True   True       True          False   \n",
       "8         total intl calls     True   True   True       True          False   \n",
       "9       total intl minutes     True   True   True      False          False   \n",
       "10       total intl charge     True   True   True      False          False   \n",
       "11   number vmail messages     True   True   True      False          False   \n",
       "12         total day calls     True  False   True      False          False   \n",
       "13          account length    False   True  False      False          False   \n",
       "14     total night minutes    False  False  False      False          False   \n",
       "15      total night charge    False  False  False      False          False   \n",
       "16       total night calls    False  False  False      False          False   \n",
       "17         total eve calls    False  False  False      False          False   \n",
       "18                   state    False  False  False      False          False   \n",
       "19               area code    False  False  False      False          False   \n",
       "\n",
       "    Total  \n",
       "1       5  \n",
       "2       5  \n",
       "3       5  \n",
       "4       5  \n",
       "5       5  \n",
       "6       5  \n",
       "7       4  \n",
       "8       4  \n",
       "9       3  \n",
       "10      3  \n",
       "11      3  \n",
       "12      2  \n",
       "13      1  \n",
       "14      0  \n",
       "15      0  \n",
       "16      0  \n",
       "17      0  \n",
       "18      0  \n",
       "19      0  "
      ]
     },
     "execution_count": 36,
     "metadata": {},
     "output_type": "execute_result"
    }
   ],
   "source": [
    "# Creating dataframe with outcomes:\n",
    "feature_selection_df = print_feature_summary(feature_name, support_metrics[0].get('support'), \\\n",
    "                                             support_metrics[1].get('support'), support_metrics[2].get('support'), \\\n",
    "                                             support_metrics[3].get('support'), support_metrics[4].get('support'))\n",
    "feature_selection_df"
   ]
  },
  {
   "cell_type": "markdown",
   "id": "aef531d1",
   "metadata": {},
   "source": [
    "## Methods to deal with unbalaced data using RandomForest model <a class=\"anchor\" id=\"51-bullet\"></a>\n",
    "\n",
    "- SMOTE\n",
    "- Resample\n",
    "\n",
    "\n",
    "* [1. Score on resampled data](#10-bullet)\n",
    "* [2. Score with PCA](#11-bullet)\n",
    "* [3. Score on dataset with all features](#12-bullet)\n",
    "* [4. Score on data with 5 methods feature selection](#13-bullet)\n",
    "* [5. Score on data without high corr columns](#14-bullet)"
   ]
  },
  {
   "cell_type": "code",
   "execution_count": 66,
   "id": "c52ca5d4",
   "metadata": {},
   "outputs": [],
   "source": [
    "# Choosing parameters:\n",
    "model = RandomForestClassifier(random_state=random_state)\n",
    "\n",
    "params = {\n",
    "    'clf__max_depth': [5, 7, 10],\n",
    "    'clf__max_samples': [0.75, 1], \n",
    "    'clf__n_estimators': [100, 200, 300],\n",
    "    'clf__min_samples_leaf': [1, 5]  \n",
    "    }\n",
    "\n",
    "sm = SMOTE(sampling_strategy='auto', random_state=random_state)\n",
    "\n",
    "preprocessor = minmaxscaler"
   ]
  },
  {
   "cell_type": "markdown",
   "id": "90479a07",
   "metadata": {},
   "source": [
    "#### Score on resampled data  <a class=\"anchor\" id=\"10-bullet\"></a>"
   ]
  },
  {
   "cell_type": "code",
   "execution_count": 59,
   "id": "ae8dd631",
   "metadata": {},
   "outputs": [
    {
     "data": {
      "text/html": [
       "\n",
       "        <script>\n",
       "            function code_toggle_7311762416587653133() {\n",
       "                $('div.cell.code_cell.rendered.selected').next().find('div.input').toggle();\n",
       "            }\n",
       "\n",
       "            $('div.cell.code_cell.rendered.selected').find(\"div.input\").hide();\n",
       "        </script>\n",
       "\n",
       "        <a href=\"javascript:code_toggle_7311762416587653133()\">Hidden function next cell</a>\n",
       "    "
      ],
      "text/plain": [
       "<IPython.core.display.HTML object>"
      ]
     },
     "execution_count": 59,
     "metadata": {},
     "output_type": "execute_result"
    }
   ],
   "source": [
    "# Function to resample date\n",
    "hide_toggle(for_next=True)"
   ]
  },
  {
   "cell_type": "code",
   "execution_count": 60,
   "id": "de33c832",
   "metadata": {},
   "outputs": [],
   "source": [
    "def resample_data(data, target, col_to_drop:list = None, label_exist=dict_with_mapping):\n",
    "    \"\"\" \n",
    "    This function takes:\n",
    "    < target - name of target columns in string\n",
    "    < data - our dataset\n",
    "    < col_to_drop - list of column names which we want to drop\n",
    "    And resample data if there is 2 classes to predict.\n",
    "    \"\"\"\n",
    "    df, dict_with_mapping = basic_preprocess(data=data, \n",
    "                                             target='churn', \n",
    "                                             plot_corr='no', \n",
    "                                             col_to_drop=['phone number'], \n",
    "                                             divide='no', \n",
    "                                             label_exist=label_exist)\n",
    "    if data[target].nunique() == 2:\n",
    "        \n",
    "        unique = data[target].unique().tolist()\n",
    "        if len(data[data[target] == unique[0]]) > len(data[data[target] == unique[1]]):\n",
    "            unique_more = unique[0]\n",
    "            unique_less = unique[1]\n",
    "        else:\n",
    "            unique_more = unique[1]\n",
    "            unique_less = unique[0]\n",
    "            \n",
    "        df_0 = df[df[target] == unique_more ]\n",
    "        df_1 = df[df[target] == unique_less ]\n",
    "        n_y = len(df_1)\n",
    "        df_0_downsample = resample(df_0, \n",
    "                                   replace = True,    \n",
    "                                   n_samples = 2*n_y,    \n",
    "                                   random_state = 42)\n",
    "        df_1_upsample = resample(df_1, \n",
    "                                   replace = True,    \n",
    "                                   n_samples = round((n_y*1.1) / 2) * 2,    \n",
    "                                   random_state = 42)\n",
    "        data_resmaple = pd.concat([df_0_downsample, df_1_upsample])\n",
    "\n",
    "        y = data_resmaple.pop(target)\n",
    "        X = data_resmaple\n",
    "        print(f\"New dataset after resampling has: {data_resmaple.shape[0]} rows\")\n",
    "        return y, X\n",
    "    else:\n",
    "        return 'There is more then 2 class in the target variable'"
   ]
  },
  {
   "cell_type": "code",
   "execution_count": 61,
   "id": "f291cc3b",
   "metadata": {},
   "outputs": [
    {
     "data": {
      "text/html": [
       "\n",
       "        <script>\n",
       "            function code_toggle_15826216184146106659() {\n",
       "                $('div.cell.code_cell.rendered.selected').next().find('div.input').toggle();\n",
       "            }\n",
       "\n",
       "            $('div.cell.code_cell.rendered.selected').find(\"div.input\").hide();\n",
       "        </script>\n",
       "\n",
       "        <a href=\"javascript:code_toggle_15826216184146106659()\">Hidden function next cell</a>\n",
       "    "
      ],
      "text/plain": [
       "<IPython.core.display.HTML object>"
      ]
     },
     "execution_count": 61,
     "metadata": {},
     "output_type": "execute_result"
    }
   ],
   "source": [
    "# Function to print Validation score on test dataset\n",
    "hide_toggle(for_next=True)"
   ]
  },
  {
   "cell_type": "code",
   "execution_count": 62,
   "id": "eed49926",
   "metadata": {},
   "outputs": [],
   "source": [
    "def find_best_option_new(model, X_train, y_train, preprocessor, params=None, balance=None, best_models=None):\n",
    "    \"\"\"\n",
    "    This functions takes:\n",
    "    < model\n",
    "    < X_train\n",
    "    < y_train \n",
    "    < params (default: None) - which parameters for certain model we want to use\n",
    "    < balance (default: None) - option to balance unbalanced data, for example using SMOTE method\n",
    "    < best_models (default: None)\n",
    "    And returns fit model on which we can make further transformation. \n",
    "    \"\"\"\n",
    "    if best_models == None:\n",
    "        if balance == None:\n",
    "            pipeline = Pipeline([('scaler', preprocessor),\n",
    "                                 ('clf', model)])\n",
    "        else:\n",
    "            pipeline = Pipeline([('scaler', preprocessor),\n",
    "                                 ('sm', balance), \n",
    "                                 ('clf', model)])\n",
    "\n",
    "        gs = GridSearchCV(pipeline, params, cv=5, n_jobs=-1, scoring='f1', return_train_score=True)\n",
    "        gs.fit(X_train, y_train)\n",
    "        return gs\n",
    "    else:\n",
    "        optimizer = GridSearchCV(model, \n",
    "                                 param_grid=params, \n",
    "                                 cv=5, \n",
    "                                 scoring=\"f1\",\n",
    "                                 n_jobs=-1)\n",
    "        optimizer.fit(X_train, y_train)\n",
    "        return optimizer"
   ]
  },
  {
   "cell_type": "code",
   "execution_count": 63,
   "id": "df97c6a5",
   "metadata": {},
   "outputs": [
    {
     "name": "stdout",
     "output_type": "stream",
     "text": [
      "Column to encode: ['state', 'international plan', 'voice mail plan', 'churn']\n",
      "Column to encoder: 1\n",
      "New dataset after resampling has: 1498 rows\n"
     ]
    }
   ],
   "source": [
    "# dataset after resampling:\n",
    "y_res, X_res = resample_data(data=data, target='churn', col_to_drop = ['phone number'])"
   ]
  },
  {
   "cell_type": "code",
   "execution_count": 64,
   "id": "51be77c2",
   "metadata": {},
   "outputs": [],
   "source": [
    "# dataset after resampling:\n",
    "X_train_res, X_test_res, y_train_res, y_test_res = train_test_split(X_res, y_res, test_size=0.2, \\\n",
    "                                                                    random_state=42, stratify = y_res)"
   ]
  },
  {
   "cell_type": "code",
   "execution_count": 69,
   "id": "86b33354",
   "metadata": {},
   "outputs": [
    {
     "name": "stdout",
     "output_type": "stream",
     "text": [
      "Validation score for resample data: 0.92\n",
      "Validation score for resample data with smote: 0.94\n"
     ]
    }
   ],
   "source": [
    "# Resample data:\n",
    "gs_resample = find_best_option_new(model, X_train_res, y_train_res, preprocessor, params = params)\n",
    "print(\"Validation score for resample data: {:.2f}\".format(gs_resample.score(X_test_res, y_test_res)))\n",
    "gs_resample_sm = find_best_option_new(model, X_train_res, y_train_res, preprocessor, params = params, balance=sm)\n",
    "print(\"Validation score for resample data with smote: {:.2f}\".format(gs_resample_sm.score(X_test_res, y_test_res)))"
   ]
  },
  {
   "cell_type": "markdown",
   "id": "a3279a65",
   "metadata": {},
   "source": [
    "#### Score with PCA  <a class=\"anchor\" id=\"11-bullet\"></a>"
   ]
  },
  {
   "cell_type": "code",
   "execution_count": 76,
   "id": "4463d8b5",
   "metadata": {},
   "outputs": [],
   "source": [
    "pca = PCA(0.95)"
   ]
  },
  {
   "cell_type": "code",
   "execution_count": 77,
   "id": "7bde7c04",
   "metadata": {},
   "outputs": [
    {
     "data": {
      "text/html": [
       "\n",
       "        <script>\n",
       "            function code_toggle_14769571154528505894() {\n",
       "                $('div.cell.code_cell.rendered.selected').next().find('div.input').toggle();\n",
       "            }\n",
       "\n",
       "            $('div.cell.code_cell.rendered.selected').find(\"div.input\").hide();\n",
       "        </script>\n",
       "\n",
       "        <a href=\"javascript:code_toggle_14769571154528505894()\">Hidden function next cell</a>\n",
       "    "
      ],
      "text/plain": [
       "<IPython.core.display.HTML object>"
      ]
     },
     "execution_count": 77,
     "metadata": {},
     "output_type": "execute_result"
    }
   ],
   "source": [
    "hide_toggle(for_next=True)"
   ]
  },
  {
   "cell_type": "code",
   "execution_count": 78,
   "id": "20b98ced",
   "metadata": {},
   "outputs": [],
   "source": [
    "def data_after_pca(X_train, X_test, y_train, y_test, preprocessor, model, params, sm, pca):\n",
    "    \n",
    "    pipe = Pipeline(steps=[(\"scaler\", preprocessor), \n",
    "                           (\"pca\", pca), \n",
    "                           (\"clf\", model)\n",
    "                          ])\n",
    "    pipe_sm = Pipeline(steps=[(\"scaler\", preprocessor), \n",
    "                              (\"sm\", sm),\n",
    "                              (\"pca\", pca), \n",
    "                              (\"clf\", model)\n",
    "                             ])\n",
    "    params = params\n",
    "    \n",
    "    gs = GridSearchCV(pipe, params, cv=5, n_jobs=-1, scoring='f1', return_train_score=True)\n",
    "    gs.fit(X_train, y_train)\n",
    "    print(\"Validation score for data with PCA: {:.2f}\".format(gs.score(X_test, y_test)))\n",
    "    gs_sm = GridSearchCV(pipe_sm, params, cv=5, n_jobs=-1, scoring='f1', return_train_score=True)\n",
    "    gs_sm.fit(X_train, y_train)\n",
    "    print(\"Validation score for data with PCA and SMOTE: {:.2f}\".format(gs_sm.score(X_test, y_test)))"
   ]
  },
  {
   "cell_type": "code",
   "execution_count": 80,
   "id": "3c734a99",
   "metadata": {},
   "outputs": [
    {
     "name": "stdout",
     "output_type": "stream",
     "text": [
      "Validation score for data with PCA: 0.53\n",
      "Validation score for data with PCA and SMOTE: 0.64\n"
     ]
    }
   ],
   "source": [
    "data_after_pca(X_train, X_test, y_train, y_test, preprocessor, model, params, sm, pca)"
   ]
  },
  {
   "cell_type": "markdown",
   "id": "6eb492ab",
   "metadata": {},
   "source": [
    "#### Score on dataset with all features:  <a class=\"anchor\" id=\"12-bullet\"></a>"
   ]
  },
  {
   "cell_type": "code",
   "execution_count": 53,
   "id": "9e1a7880",
   "metadata": {},
   "outputs": [],
   "source": [
    "gs = find_best_option_new(model, X_train, y_train, preprocessor, \\\n",
    "                      params=params, balance=None, best_models=None)"
   ]
  },
  {
   "cell_type": "code",
   "execution_count": 54,
   "id": "147d3075",
   "metadata": {},
   "outputs": [],
   "source": [
    "gs_sm = find_best_option_new(model, X_train, y_train, preprocessor, \\\n",
    "                         params=params, balance=sm, best_models=None)"
   ]
  },
  {
   "cell_type": "code",
   "execution_count": 55,
   "id": "331aa148",
   "metadata": {},
   "outputs": [
    {
     "name": "stdout",
     "output_type": "stream",
     "text": [
      "Validation score for data with all feature: 0.77\n",
      "Validation score for data with all feature with sm: 0.71\n"
     ]
    }
   ],
   "source": [
    "print(\"Validation score for data with all feature: {:.2f}\".format(gs.score(X_test, y_test)))\n",
    "print(\"Validation score for data with all feature with sm: {:.2f}\".format(gs_sm.score(X_test, y_test)))"
   ]
  },
  {
   "cell_type": "markdown",
   "id": "e6164123",
   "metadata": {},
   "source": [
    "#### Score on data with 5 methods feature selection:  <a class=\"anchor\" id=\"13-bullet\"></a>"
   ]
  },
  {
   "cell_type": "code",
   "execution_count": 56,
   "id": "9035ca1b",
   "metadata": {},
   "outputs": [
    {
     "name": "stdout",
     "output_type": "stream",
     "text": [
      "Dataset with selected feature by few methods together has: 11 features.\n"
     ]
    }
   ],
   "source": [
    "# dataset with selected feature by few methods together:\n",
    "n = len(feature_selection_df.loc[feature_selection_df['Total'] > 2])\n",
    "col_to_take = feature_selection_df['Feature'][:n]\n",
    "X_selected = X[col_to_take]\n",
    "print(f\"Dataset with selected feature by few methods together has: {X_selected.shape[1]} features.\")"
   ]
  },
  {
   "cell_type": "code",
   "execution_count": 57,
   "id": "ee67c7cd",
   "metadata": {},
   "outputs": [],
   "source": [
    "X_train_m5, X_test_m5, y_train_m5, y_test_m5 = train_test_split(X_selected, y, test_size=0.2, random_state=random_state, stratify = y)"
   ]
  },
  {
   "cell_type": "code",
   "execution_count": 58,
   "id": "476518d0",
   "metadata": {},
   "outputs": [],
   "source": [
    "gs_m5 = find_best_option_new(model, X_train_m5, y_train_m5, preprocessor, \\\n",
    "                      params=params, balance=None, best_models=None)"
   ]
  },
  {
   "cell_type": "code",
   "execution_count": 59,
   "id": "3cf95cb5",
   "metadata": {},
   "outputs": [],
   "source": [
    "gs_m5_sm = find_best_option_new(model, X_train_m5, y_train_m5, preprocessor, \\\n",
    "                      params=params, balance=sm, best_models=None)"
   ]
  },
  {
   "cell_type": "code",
   "execution_count": 60,
   "id": "cf91b84a",
   "metadata": {},
   "outputs": [
    {
     "name": "stdout",
     "output_type": "stream",
     "text": [
      "Validation score for 5 methods: 0.78\n",
      "Validation score for 5 methods: 0.71\n"
     ]
    }
   ],
   "source": [
    "print(\"Validation score for 5 methods: {:.2f}\".format(gs_m5.score(X_test_m5, y_test_m5)))\n",
    "print(\"Validation score for 5 methods: {:.2f}\".format(gs_m5_sm.score(X_test_m5, y_test_m5)))"
   ]
  },
  {
   "cell_type": "markdown",
   "id": "909e3563",
   "metadata": {},
   "source": [
    "#### Score on data without high corr columns:  <a class=\"anchor\" id=\"14-bullet\"></a>"
   ]
  },
  {
   "cell_type": "code",
   "execution_count": 61,
   "id": "baf2a34e",
   "metadata": {},
   "outputs": [
    {
     "name": "stdout",
     "output_type": "stream",
     "text": [
      "Dataset without column which are higly correlated has: 15 features.\n"
     ]
    }
   ],
   "source": [
    "# dataset without column with high correlation:\n",
    "col_to_drop = col_to_drop_after_high_corr(data, 0.9)\n",
    "col_to_stay = [col for col in X.columns if col not in col_to_drop]\n",
    "X_no_high_corr = X[col_to_stay]\n",
    "print(f\"Dataset without column which are higly correlated has: {X_no_high_corr.shape[1]} features.\")"
   ]
  },
  {
   "cell_type": "code",
   "execution_count": 62,
   "id": "db062c99",
   "metadata": {},
   "outputs": [],
   "source": [
    "X_train_corr, X_test_corr, y_train_corr, y_test_corr = train_test_split(X_no_high_corr, y, test_size=0.2, random_state=random_state, stratify = y)"
   ]
  },
  {
   "cell_type": "code",
   "execution_count": 63,
   "id": "637689ec",
   "metadata": {},
   "outputs": [],
   "source": [
    "gs_corr = find_best_option_new(model, X_train_corr, y_train_corr, preprocessor, \\\n",
    "                      params=params, balance=None, best_models=None)"
   ]
  },
  {
   "cell_type": "code",
   "execution_count": 64,
   "id": "748d0c20",
   "metadata": {},
   "outputs": [],
   "source": [
    "gs_corr_sm = find_best_option_new(model, X_train_corr, y_train_corr, preprocessor, \\\n",
    "                      params=params, balance=sm, best_models=None)"
   ]
  },
  {
   "cell_type": "code",
   "execution_count": 65,
   "id": "b1d0176d",
   "metadata": {},
   "outputs": [
    {
     "name": "stdout",
     "output_type": "stream",
     "text": [
      "Validation score for data without high corr columns: 0.68\n",
      "Validation score for data without high corr columns: 0.69\n"
     ]
    }
   ],
   "source": [
    "print(\"Validation score for data without high corr columns: {:.2f}\".format(gs_corr.score(X_test_corr, y_test_corr)))\n",
    "print(\"Validation score for data without high corr columns: {:.2f}\".format(gs_corr_sm.score(X_test_corr, y_test_corr)))"
   ]
  },
  {
   "cell_type": "markdown",
   "id": "e2634e65",
   "metadata": {},
   "source": [
    "[Go back to the table of contents](#0-bullet)"
   ]
  },
  {
   "cell_type": "markdown",
   "id": "774b76db",
   "metadata": {},
   "source": [
    "## 6. Classification with different models <a class=\"anchor\" id=\"6-bullet\"></a>\n",
    "### Selecting best models, best params and showing metrics"
   ]
  },
  {
   "cell_type": "code",
   "execution_count": 46,
   "id": "2be6fd53",
   "metadata": {},
   "outputs": [
    {
     "name": "stdout",
     "output_type": "stream",
     "text": [
      "Column to encode: ['state', 'international plan', 'voice mail plan', 'churn']\n",
      "Column to encoder: 1\n"
     ]
    }
   ],
   "source": [
    "X, y, mapping = basic_preprocess(data=data, \n",
    "                        target='churn', \n",
    "                        divide='yes',\n",
    "                        col_to_drop=['phone number'],\n",
    "                        label_exist = dict_with_mapping\n",
    "                       )"
   ]
  },
  {
   "cell_type": "code",
   "execution_count": 47,
   "id": "70cbefca",
   "metadata": {},
   "outputs": [],
   "source": [
    "X_train, X_test, y_train, y_test = train_test_split(X, \n",
    "                                                    y, \n",
    "                                                    test_size=0.2, \n",
    "                                                    random_state=random_state, \n",
    "                                                    stratify = y)"
   ]
  },
  {
   "cell_type": "code",
   "execution_count": 48,
   "id": "43d93f3f",
   "metadata": {},
   "outputs": [],
   "source": [
    "models_name = ['LogisticRegression', 'SVC', 'DecisionTreeClassifier', 'RandomForestClassifier',\\\n",
    "               'GradientBoostingClassifier', 'KNeighborsClassifier', 'AdaBoostClassifier', 'XGBClassifier']\n",
    "\n",
    "models = [\n",
    "    Pipeline([(\"scaler\", StandardScaler()), \n",
    "              (\"clf\", LogisticRegression(max_iter=1000))]),\n",
    "    Pipeline([(\"scaler\", StandardScaler()), \n",
    "              (\"clf\", SVC(kernel='rbf'))]),\n",
    "    Pipeline([('clf', DecisionTreeClassifier())]),\n",
    "    Pipeline([('clf', RandomForestClassifier())]),\n",
    "    Pipeline([('clf', GradientBoostingClassifier())]),\n",
    "    Pipeline([('clf', KNeighborsClassifier())]),\n",
    "    Pipeline([('clf', AdaBoostClassifier())]),\n",
    "    Pipeline([('clf', xgb.XGBClassifier())])\n",
    "]\n",
    "\n",
    "params = [\n",
    "    {'clf__C': [0.1, 5, 10, 15],\n",
    "    'clf__penalty': ['l2', 'none']},\n",
    "    {\"clf__C\": [0.01, 0.1, 1, 10], \n",
    "     \"clf__gamma\": [0.1, 1, 10, 'scale', 'auto']},\n",
    "    {\"clf__min_samples_leaf\": [1, 5],\n",
    "     \"clf__max_features\": [0.75, 1],\n",
    "     \"clf__max_depth\": [5,7,10],\n",
    "     \"clf__criterion\": ['gini', 'entropy']},\n",
    "    {\"clf__n_estimators\": [350, 400],\n",
    "     \"clf__min_samples_leaf\": [1, 3],\n",
    "     \"clf__max_samples\": [0.75, 1]},\n",
    "    {\"clf__n_estimators\": [150, 200, 250],\n",
    "     \"clf__min_samples_leaf\": [3, 5, 8, 10]},\n",
    "    {\"clf__n_neighbors\": [5, 10, 15]},\n",
    "    {\"clf__n_estimators\": [50,100]},\n",
    "    {\"clf__max_depth\":  [4,5], \n",
    "     \"clf__n_estimators\": [250,300,350],\n",
    "     \"clf__subsample\": [0.8, 0.85, 0.9],\n",
    "     \"clf__colsample_bytree\": [0.75, 0.9],\n",
    "     \"clf__gamma\": [0.1, 1, 3]}\n",
    "]"
   ]
  },
  {
   "cell_type": "code",
   "execution_count": 49,
   "id": "dea8df91",
   "metadata": {
    "scrolled": false
   },
   "outputs": [
    {
     "name": "stdout",
     "output_type": "stream",
     "text": [
      "Looking for best parameters for LogisticRegression\n",
      "Done!\n",
      "Looking for best parameters for SVC\n",
      "Done!\n",
      "Looking for best parameters for DecisionTreeClassifier\n",
      "Done!\n",
      "Looking for best parameters for RandomForestClassifier\n",
      "Done!\n",
      "Looking for best parameters for GradientBoostingClassifier\n",
      "Done!\n",
      "Looking for best parameters for KNeighborsClassifier\n",
      "Done!\n",
      "Looking for best parameters for AdaBoostClassifier\n",
      "Done!\n",
      "Looking for best parameters for XGBClassifier\n",
      "Done!\n"
     ]
    }
   ],
   "source": [
    "df_metrics_value, metrics_value = looking_for_parameters(X_train, X_test, y_train, y_test, models, params, models_name)"
   ]
  },
  {
   "cell_type": "code",
   "execution_count": 50,
   "id": "8c06f165",
   "metadata": {},
   "outputs": [
    {
     "data": {
      "text/html": [
       "<style type=\"text/css\">\n",
       "#T_d53b4_row0_col1, #T_d53b4_row1_col1, #T_d53b4_row2_col1, #T_d53b4_row3_col1, #T_d53b4_row4_col1, #T_d53b4_row5_col1, #T_d53b4_row6_col1, #T_d53b4_row7_col1 {\n",
       "  width: 320px;\n",
       "}\n",
       "</style>\n",
       "<table id=\"T_d53b4\">\n",
       "  <thead>\n",
       "    <tr>\n",
       "      <th class=\"blank level0\" >&nbsp;</th>\n",
       "      <th id=\"T_d53b4_level0_col0\" class=\"col_heading level0 col0\" >model_name</th>\n",
       "      <th id=\"T_d53b4_level0_col1\" class=\"col_heading level0 col1\" >best_params</th>\n",
       "      <th id=\"T_d53b4_level0_col2\" class=\"col_heading level0 col2\" >accuracy</th>\n",
       "      <th id=\"T_d53b4_level0_col3\" class=\"col_heading level0 col3\" >precision</th>\n",
       "      <th id=\"T_d53b4_level0_col4\" class=\"col_heading level0 col4\" >recall</th>\n",
       "      <th id=\"T_d53b4_level0_col5\" class=\"col_heading level0 col5\" >f1</th>\n",
       "      <th id=\"T_d53b4_level0_col6\" class=\"col_heading level0 col6\" >mislabeled</th>\n",
       "      <th id=\"T_d53b4_level0_col7\" class=\"col_heading level0 col7\" >total</th>\n",
       "    </tr>\n",
       "  </thead>\n",
       "  <tbody>\n",
       "    <tr>\n",
       "      <th id=\"T_d53b4_level0_row0\" class=\"row_heading level0 row0\" >7</th>\n",
       "      <td id=\"T_d53b4_row0_col0\" class=\"data row0 col0\" >XGBClassifier</td>\n",
       "      <td id=\"T_d53b4_row0_col1\" class=\"data row0 col1\" >{'clf__colsample_bytree': 0.9, 'clf__gamma': 3, 'clf__max_depth': 4, 'clf__n_estimators': 350, 'clf__subsample': 0.9}</td>\n",
       "      <td id=\"T_d53b4_row0_col2\" class=\"data row0 col2\" >0.950000</td>\n",
       "      <td id=\"T_d53b4_row0_col3\" class=\"data row0 col3\" >0.910000</td>\n",
       "      <td id=\"T_d53b4_row0_col4\" class=\"data row0 col4\" >0.870000</td>\n",
       "      <td id=\"T_d53b4_row0_col5\" class=\"data row0 col5\" >0.890000</td>\n",
       "      <td id=\"T_d53b4_row0_col6\" class=\"data row0 col6\" >35</td>\n",
       "      <td id=\"T_d53b4_row0_col7\" class=\"data row0 col7\" >667</td>\n",
       "    </tr>\n",
       "    <tr>\n",
       "      <th id=\"T_d53b4_level0_row1\" class=\"row_heading level0 row1\" >4</th>\n",
       "      <td id=\"T_d53b4_row1_col0\" class=\"data row1 col0\" >GradientBoostingClassifier</td>\n",
       "      <td id=\"T_d53b4_row1_col1\" class=\"data row1 col1\" >{'clf__min_samples_leaf': 8, 'clf__n_estimators': 150}</td>\n",
       "      <td id=\"T_d53b4_row1_col2\" class=\"data row1 col2\" >0.940000</td>\n",
       "      <td id=\"T_d53b4_row1_col3\" class=\"data row1 col3\" >0.910000</td>\n",
       "      <td id=\"T_d53b4_row1_col4\" class=\"data row1 col4\" >0.860000</td>\n",
       "      <td id=\"T_d53b4_row1_col5\" class=\"data row1 col5\" >0.880000</td>\n",
       "      <td id=\"T_d53b4_row1_col6\" class=\"data row1 col6\" >37</td>\n",
       "      <td id=\"T_d53b4_row1_col7\" class=\"data row1 col7\" >667</td>\n",
       "    </tr>\n",
       "    <tr>\n",
       "      <th id=\"T_d53b4_level0_row2\" class=\"row_heading level0 row2\" >3</th>\n",
       "      <td id=\"T_d53b4_row2_col0\" class=\"data row2 col0\" >RandomForestClassifier</td>\n",
       "      <td id=\"T_d53b4_row2_col1\" class=\"data row2 col1\" >{'clf__max_samples': 0.75, 'clf__min_samples_leaf': 1, 'clf__n_estimators': 400}</td>\n",
       "      <td id=\"T_d53b4_row2_col2\" class=\"data row2 col2\" >0.940000</td>\n",
       "      <td id=\"T_d53b4_row2_col3\" class=\"data row2 col3\" >0.920000</td>\n",
       "      <td id=\"T_d53b4_row2_col4\" class=\"data row2 col4\" >0.830000</td>\n",
       "      <td id=\"T_d53b4_row2_col5\" class=\"data row2 col5\" >0.870000</td>\n",
       "      <td id=\"T_d53b4_row2_col6\" class=\"data row2 col6\" >40</td>\n",
       "      <td id=\"T_d53b4_row2_col7\" class=\"data row2 col7\" >667</td>\n",
       "    </tr>\n",
       "    <tr>\n",
       "      <th id=\"T_d53b4_level0_row3\" class=\"row_heading level0 row3\" >2</th>\n",
       "      <td id=\"T_d53b4_row3_col0\" class=\"data row3 col0\" >DecisionTreeClassifier</td>\n",
       "      <td id=\"T_d53b4_row3_col1\" class=\"data row3 col1\" >{'clf__criterion': 'gini', 'clf__max_depth': 7, 'clf__max_features': 0.75, 'clf__min_samples_leaf': 5}</td>\n",
       "      <td id=\"T_d53b4_row3_col2\" class=\"data row3 col2\" >0.940000</td>\n",
       "      <td id=\"T_d53b4_row3_col3\" class=\"data row3 col3\" >0.900000</td>\n",
       "      <td id=\"T_d53b4_row3_col4\" class=\"data row3 col4\" >0.830000</td>\n",
       "      <td id=\"T_d53b4_row3_col5\" class=\"data row3 col5\" >0.860000</td>\n",
       "      <td id=\"T_d53b4_row3_col6\" class=\"data row3 col6\" >42</td>\n",
       "      <td id=\"T_d53b4_row3_col7\" class=\"data row3 col7\" >667</td>\n",
       "    </tr>\n",
       "    <tr>\n",
       "      <th id=\"T_d53b4_level0_row4\" class=\"row_heading level0 row4\" >1</th>\n",
       "      <td id=\"T_d53b4_row4_col0\" class=\"data row4 col0\" >SVC</td>\n",
       "      <td id=\"T_d53b4_row4_col1\" class=\"data row4 col1\" >{'clf__C': 10, 'clf__gamma': 'scale'}</td>\n",
       "      <td id=\"T_d53b4_row4_col2\" class=\"data row4 col2\" >0.910000</td>\n",
       "      <td id=\"T_d53b4_row4_col3\" class=\"data row4 col3\" >0.830000</td>\n",
       "      <td id=\"T_d53b4_row4_col4\" class=\"data row4 col4\" >0.760000</td>\n",
       "      <td id=\"T_d53b4_row4_col5\" class=\"data row4 col5\" >0.790000</td>\n",
       "      <td id=\"T_d53b4_row4_col6\" class=\"data row4 col6\" >62</td>\n",
       "      <td id=\"T_d53b4_row4_col7\" class=\"data row4 col7\" >667</td>\n",
       "    </tr>\n",
       "    <tr>\n",
       "      <th id=\"T_d53b4_level0_row5\" class=\"row_heading level0 row5\" >6</th>\n",
       "      <td id=\"T_d53b4_row5_col0\" class=\"data row5 col0\" >AdaBoostClassifier</td>\n",
       "      <td id=\"T_d53b4_row5_col1\" class=\"data row5 col1\" >{'clf__n_estimators': 100}</td>\n",
       "      <td id=\"T_d53b4_row5_col2\" class=\"data row5 col2\" >0.860000</td>\n",
       "      <td id=\"T_d53b4_row5_col3\" class=\"data row5 col3\" >0.720000</td>\n",
       "      <td id=\"T_d53b4_row5_col4\" class=\"data row5 col4\" >0.660000</td>\n",
       "      <td id=\"T_d53b4_row5_col5\" class=\"data row5 col5\" >0.680000</td>\n",
       "      <td id=\"T_d53b4_row5_col6\" class=\"data row5 col6\" >92</td>\n",
       "      <td id=\"T_d53b4_row5_col7\" class=\"data row5 col7\" >667</td>\n",
       "    </tr>\n",
       "    <tr>\n",
       "      <th id=\"T_d53b4_level0_row6\" class=\"row_heading level0 row6\" >5</th>\n",
       "      <td id=\"T_d53b4_row6_col0\" class=\"data row6 col0\" >KNeighborsClassifier</td>\n",
       "      <td id=\"T_d53b4_row6_col1\" class=\"data row6 col1\" >{'clf__n_neighbors': 5}</td>\n",
       "      <td id=\"T_d53b4_row6_col2\" class=\"data row6 col2\" >0.870000</td>\n",
       "      <td id=\"T_d53b4_row6_col3\" class=\"data row6 col3\" >0.760000</td>\n",
       "      <td id=\"T_d53b4_row6_col4\" class=\"data row6 col4\" >0.620000</td>\n",
       "      <td id=\"T_d53b4_row6_col5\" class=\"data row6 col5\" >0.650000</td>\n",
       "      <td id=\"T_d53b4_row6_col6\" class=\"data row6 col6\" >86</td>\n",
       "      <td id=\"T_d53b4_row6_col7\" class=\"data row6 col7\" >667</td>\n",
       "    </tr>\n",
       "    <tr>\n",
       "      <th id=\"T_d53b4_level0_row7\" class=\"row_heading level0 row7\" >0</th>\n",
       "      <td id=\"T_d53b4_row7_col0\" class=\"data row7 col0\" >LogisticRegression</td>\n",
       "      <td id=\"T_d53b4_row7_col1\" class=\"data row7 col1\" >{'clf__C': 10, 'clf__penalty': 'l2'}</td>\n",
       "      <td id=\"T_d53b4_row7_col2\" class=\"data row7 col2\" >0.860000</td>\n",
       "      <td id=\"T_d53b4_row7_col3\" class=\"data row7 col3\" >0.710000</td>\n",
       "      <td id=\"T_d53b4_row7_col4\" class=\"data row7 col4\" >0.600000</td>\n",
       "      <td id=\"T_d53b4_row7_col5\" class=\"data row7 col5\" >0.620000</td>\n",
       "      <td id=\"T_d53b4_row7_col6\" class=\"data row7 col6\" >94</td>\n",
       "      <td id=\"T_d53b4_row7_col7\" class=\"data row7 col7\" >667</td>\n",
       "    </tr>\n",
       "  </tbody>\n",
       "</table>\n"
      ],
      "text/plain": [
       "<pandas.io.formats.style.Styler at 0x20b331160d0>"
      ]
     },
     "execution_count": 50,
     "metadata": {},
     "output_type": "execute_result"
    }
   ],
   "source": [
    "df_metrics_value"
   ]
  },
  {
   "cell_type": "markdown",
   "id": "f8ff5e4c",
   "metadata": {},
   "source": [
    "[Go back to the table of contents](#0-bullet)"
   ]
  },
  {
   "cell_type": "markdown",
   "id": "79a4d9ea",
   "metadata": {},
   "source": [
    "## 7. CROSS VAL SCORE <a class=\"anchor\" id=\"7-bullet\"></a>\n",
    "### Check if different model cause overfitting or not\n",
    "\n",
    "Czu potrzebne są tu random_state ??"
   ]
  },
  {
   "cell_type": "code",
   "execution_count": 51,
   "id": "5a57a519",
   "metadata": {},
   "outputs": [],
   "source": [
    "sfk = StratifiedKFold(n_splits=5, shuffle=True, random_state=random_state)"
   ]
  },
  {
   "cell_type": "code",
   "execution_count": 52,
   "id": "71f15c92",
   "metadata": {},
   "outputs": [],
   "source": [
    "clf = {\n",
    "    'LogisticRegression' :LogisticRegression(random_state=random_state), \n",
    "    'SVM': SVC(random_state=random_state), \n",
    "    'DecisionTreeClassifier': DecisionTreeClassifier(random_state=random_state), \n",
    "    'RandomForestClassifier':RandomForestClassifier(random_state=random_state),\n",
    "    'GradientBoostingClassifier': GradientBoostingClassifier(random_state=random_state), \n",
    "    'KNeighborsClassifier': KNeighborsClassifier(),\n",
    "    'AdaBoostClassifier': AdaBoostClassifier(random_state=random_state),\n",
    "    'XGBoost': xgb.XGBClassifier(random_state=random_state)\n",
    "}"
   ]
  },
  {
   "cell_type": "markdown",
   "id": "424988c9",
   "metadata": {},
   "source": [
    "#### Cross validation before tune (on default parameters):"
   ]
  },
  {
   "cell_type": "code",
   "execution_count": 53,
   "id": "4006eacd",
   "metadata": {},
   "outputs": [
    {
     "name": "stdout",
     "output_type": "stream",
     "text": [
      "This function made dataframe with scores from different models through cross validation using f1 to score models.\n"
     ]
    },
    {
     "data": {
      "text/html": [
       "<div>\n",
       "<style scoped>\n",
       "    .dataframe tbody tr th:only-of-type {\n",
       "        vertical-align: middle;\n",
       "    }\n",
       "\n",
       "    .dataframe tbody tr th {\n",
       "        vertical-align: top;\n",
       "    }\n",
       "\n",
       "    .dataframe thead th {\n",
       "        text-align: right;\n",
       "    }\n",
       "</style>\n",
       "<table border=\"1\" class=\"dataframe\">\n",
       "  <thead>\n",
       "    <tr style=\"text-align: right;\">\n",
       "      <th></th>\n",
       "      <th>model</th>\n",
       "      <th>mean</th>\n",
       "      <th>min</th>\n",
       "      <th>max</th>\n",
       "      <th>overfitting</th>\n",
       "      <th>diff</th>\n",
       "    </tr>\n",
       "  </thead>\n",
       "  <tbody>\n",
       "    <tr>\n",
       "      <th>7</th>\n",
       "      <td>XGBoost</td>\n",
       "      <td>0.829232</td>\n",
       "      <td>0.790419</td>\n",
       "      <td>0.860335</td>\n",
       "      <td>No</td>\n",
       "      <td>0.07</td>\n",
       "    </tr>\n",
       "    <tr>\n",
       "      <th>4</th>\n",
       "      <td>GradientBoostingClassifier</td>\n",
       "      <td>0.806593</td>\n",
       "      <td>0.785276</td>\n",
       "      <td>0.827586</td>\n",
       "      <td>No</td>\n",
       "      <td>0.04</td>\n",
       "    </tr>\n",
       "    <tr>\n",
       "      <th>3</th>\n",
       "      <td>RandomForestClassifier</td>\n",
       "      <td>0.804713</td>\n",
       "      <td>0.781065</td>\n",
       "      <td>0.831461</td>\n",
       "      <td>No</td>\n",
       "      <td>0.05</td>\n",
       "    </tr>\n",
       "    <tr>\n",
       "      <th>2</th>\n",
       "      <td>DecisionTreeClassifier</td>\n",
       "      <td>0.695948</td>\n",
       "      <td>0.643902</td>\n",
       "      <td>0.746411</td>\n",
       "      <td>Yes</td>\n",
       "      <td>0.10</td>\n",
       "    </tr>\n",
       "    <tr>\n",
       "      <th>1</th>\n",
       "      <td>SVM</td>\n",
       "      <td>0.636831</td>\n",
       "      <td>0.619355</td>\n",
       "      <td>0.671053</td>\n",
       "      <td>No</td>\n",
       "      <td>0.05</td>\n",
       "    </tr>\n",
       "    <tr>\n",
       "      <th>5</th>\n",
       "      <td>KNeighborsClassifier</td>\n",
       "      <td>0.473140</td>\n",
       "      <td>0.439394</td>\n",
       "      <td>0.514286</td>\n",
       "      <td>No</td>\n",
       "      <td>0.07</td>\n",
       "    </tr>\n",
       "    <tr>\n",
       "      <th>6</th>\n",
       "      <td>AdaBoostClassifier</td>\n",
       "      <td>0.460523</td>\n",
       "      <td>0.386207</td>\n",
       "      <td>0.534161</td>\n",
       "      <td>Yes</td>\n",
       "      <td>0.15</td>\n",
       "    </tr>\n",
       "    <tr>\n",
       "      <th>0</th>\n",
       "      <td>LogisticRegression</td>\n",
       "      <td>0.297730</td>\n",
       "      <td>0.236220</td>\n",
       "      <td>0.391608</td>\n",
       "      <td>Yes</td>\n",
       "      <td>0.16</td>\n",
       "    </tr>\n",
       "  </tbody>\n",
       "</table>\n",
       "</div>"
      ],
      "text/plain": [
       "                        model      mean       min       max overfitting  diff\n",
       "7                     XGBoost  0.829232  0.790419  0.860335          No  0.07\n",
       "4  GradientBoostingClassifier  0.806593  0.785276  0.827586          No  0.04\n",
       "3      RandomForestClassifier  0.804713  0.781065  0.831461          No  0.05\n",
       "2      DecisionTreeClassifier  0.695948  0.643902  0.746411         Yes  0.10\n",
       "1                         SVM  0.636831  0.619355  0.671053          No  0.05\n",
       "5        KNeighborsClassifier  0.473140  0.439394  0.514286          No  0.07\n",
       "6          AdaBoostClassifier  0.460523  0.386207  0.534161         Yes  0.15\n",
       "0          LogisticRegression  0.297730  0.236220  0.391608         Yes  0.16"
      ]
     },
     "execution_count": 53,
     "metadata": {},
     "output_type": "execute_result"
    }
   ],
   "source": [
    "df_cv_scores_before = cvs_scores_to_df(clf, X, y, 'f1', 0.1, sfk)\n",
    "df_cv_scores_before.sort_values(by ='mean', ascending=False)"
   ]
  },
  {
   "cell_type": "markdown",
   "id": "e9f81230",
   "metadata": {},
   "source": [
    "#### Cross validation after tune (using best parameters):"
   ]
  },
  {
   "cell_type": "code",
   "execution_count": 54,
   "id": "c604e237",
   "metadata": {},
   "outputs": [],
   "source": [
    "clf = {\n",
    "    'LogisticRegression' :LogisticRegression(random_state=random_state), \n",
    "    'SVM': SVC(C=10, gamma='scale', random_state=random_state), \n",
    "    'DecisionTreeClassifier': DecisionTreeClassifier(min_samples_leaf=5, max_features=0.75, criterion='entropy', max_depth=7, random_state=random_state), \n",
    "    'RandomForestClassifier':RandomForestClassifier(max_samples=0.75, n_estimators=400, min_samples_leaf=1, random_state=random_state),\n",
    "    'GradientBoostingClassifier': GradientBoostingClassifier(min_samples_leaf=5, n_estimators=200, random_state=random_state), \n",
    "    'KNeighborsClassifier': KNeighborsClassifier(n_neighbors=5),\n",
    "    'AdaBoostClassifier': AdaBoostClassifier(random_state=random_state),\n",
    "    'XGBoost': xgb.XGBClassifier(colsample_bytree=0.9, gamma=3, max_depth=4, n_estimators=350, subsample=0.9, random_state=random_state)\n",
    "}"
   ]
  },
  {
   "cell_type": "code",
   "execution_count": 55,
   "id": "a07a7db6",
   "metadata": {},
   "outputs": [
    {
     "name": "stdout",
     "output_type": "stream",
     "text": [
      "This function made dataframe with scores from different models through cross validation using f1 to score models.\n"
     ]
    }
   ],
   "source": [
    "df_cv_scores_after = cvs_scores_to_df(clf, X, y, 'f1', 0.1, sfk)"
   ]
  },
  {
   "cell_type": "code",
   "execution_count": 56,
   "id": "c63c1911",
   "metadata": {},
   "outputs": [
    {
     "data": {
      "text/html": [
       "<div>\n",
       "<style scoped>\n",
       "    .dataframe tbody tr th:only-of-type {\n",
       "        vertical-align: middle;\n",
       "    }\n",
       "\n",
       "    .dataframe tbody tr th {\n",
       "        vertical-align: top;\n",
       "    }\n",
       "\n",
       "    .dataframe thead th {\n",
       "        text-align: right;\n",
       "    }\n",
       "</style>\n",
       "<table border=\"1\" class=\"dataframe\">\n",
       "  <thead>\n",
       "    <tr style=\"text-align: right;\">\n",
       "      <th></th>\n",
       "      <th>model</th>\n",
       "      <th>mean</th>\n",
       "      <th>min</th>\n",
       "      <th>max</th>\n",
       "      <th>overfitting</th>\n",
       "      <th>diff</th>\n",
       "    </tr>\n",
       "  </thead>\n",
       "  <tbody>\n",
       "    <tr>\n",
       "      <th>7</th>\n",
       "      <td>XGBoost</td>\n",
       "      <td>0.833188</td>\n",
       "      <td>0.786127</td>\n",
       "      <td>0.868132</td>\n",
       "      <td>No</td>\n",
       "      <td>0.08</td>\n",
       "    </tr>\n",
       "    <tr>\n",
       "      <th>4</th>\n",
       "      <td>GradientBoostingClassifier</td>\n",
       "      <td>0.818406</td>\n",
       "      <td>0.780488</td>\n",
       "      <td>0.849162</td>\n",
       "      <td>No</td>\n",
       "      <td>0.07</td>\n",
       "    </tr>\n",
       "    <tr>\n",
       "      <th>3</th>\n",
       "      <td>RandomForestClassifier</td>\n",
       "      <td>0.804910</td>\n",
       "      <td>0.765432</td>\n",
       "      <td>0.837209</td>\n",
       "      <td>No</td>\n",
       "      <td>0.07</td>\n",
       "    </tr>\n",
       "    <tr>\n",
       "      <th>2</th>\n",
       "      <td>DecisionTreeClassifier</td>\n",
       "      <td>0.760354</td>\n",
       "      <td>0.716049</td>\n",
       "      <td>0.800000</td>\n",
       "      <td>No</td>\n",
       "      <td>0.08</td>\n",
       "    </tr>\n",
       "    <tr>\n",
       "      <th>1</th>\n",
       "      <td>SVM</td>\n",
       "      <td>0.708230</td>\n",
       "      <td>0.681319</td>\n",
       "      <td>0.736264</td>\n",
       "      <td>No</td>\n",
       "      <td>0.05</td>\n",
       "    </tr>\n",
       "    <tr>\n",
       "      <th>5</th>\n",
       "      <td>KNeighborsClassifier</td>\n",
       "      <td>0.473140</td>\n",
       "      <td>0.439394</td>\n",
       "      <td>0.514286</td>\n",
       "      <td>No</td>\n",
       "      <td>0.07</td>\n",
       "    </tr>\n",
       "    <tr>\n",
       "      <th>6</th>\n",
       "      <td>AdaBoostClassifier</td>\n",
       "      <td>0.460523</td>\n",
       "      <td>0.386207</td>\n",
       "      <td>0.534161</td>\n",
       "      <td>Yes</td>\n",
       "      <td>0.15</td>\n",
       "    </tr>\n",
       "    <tr>\n",
       "      <th>0</th>\n",
       "      <td>LogisticRegression</td>\n",
       "      <td>0.297730</td>\n",
       "      <td>0.236220</td>\n",
       "      <td>0.391608</td>\n",
       "      <td>Yes</td>\n",
       "      <td>0.16</td>\n",
       "    </tr>\n",
       "  </tbody>\n",
       "</table>\n",
       "</div>"
      ],
      "text/plain": [
       "                        model      mean       min       max overfitting  diff\n",
       "7                     XGBoost  0.833188  0.786127  0.868132          No  0.08\n",
       "4  GradientBoostingClassifier  0.818406  0.780488  0.849162          No  0.07\n",
       "3      RandomForestClassifier  0.804910  0.765432  0.837209          No  0.07\n",
       "2      DecisionTreeClassifier  0.760354  0.716049  0.800000          No  0.08\n",
       "1                         SVM  0.708230  0.681319  0.736264          No  0.05\n",
       "5        KNeighborsClassifier  0.473140  0.439394  0.514286          No  0.07\n",
       "6          AdaBoostClassifier  0.460523  0.386207  0.534161         Yes  0.15\n",
       "0          LogisticRegression  0.297730  0.236220  0.391608         Yes  0.16"
      ]
     },
     "execution_count": 56,
     "metadata": {},
     "output_type": "execute_result"
    }
   ],
   "source": [
    "df_cv_scores_after.sort_values(by ='mean', ascending=False)"
   ]
  },
  {
   "cell_type": "markdown",
   "id": "f013b20b",
   "metadata": {},
   "source": [
    "[Go back to the table of contents](#0-bullet)"
   ]
  },
  {
   "cell_type": "markdown",
   "id": "7d5e9619",
   "metadata": {},
   "source": [
    "## 8. Trying improve prediction with XGBoost model <a class=\"anchor\" id=\"8-bullet\"></a> "
   ]
  },
  {
   "cell_type": "code",
   "execution_count": 65,
   "id": "08268743",
   "metadata": {},
   "outputs": [],
   "source": [
    "# CREATING VARIABLES\n",
    "\n",
    "# XGBoost with best parameters\n",
    "model_xgb = xgb.XGBClassifier(colsample_bytree=0.9, gamma=3, max_depth=4, n_estimators=350, subsample=0.9, \\\n",
    "                          random_state=random_state, tree_method='gpu_hist')\n",
    "\n",
    "sm = SMOTE(sampling_strategy='auto', k_neighbors=2, random_state=random_state)\n",
    "\n",
    "scaler = StandardScaler()\n",
    "\n",
    "selector = SelectFromModel(model_xgb)\n",
    "\n",
    "# Model with SMOTE\n",
    "pipe_sm = Pipeline([\n",
    "('sm', sm),\n",
    "('classifier', model_xgb)\n",
    "])\n",
    "\n",
    "# Extended model\n",
    "pipe = Pipeline([\n",
    "('scaler', scaler),\n",
    "('selector', selector),\n",
    "('sm', sm),\n",
    "('classifier', model_xgb)\n",
    "])"
   ]
  },
  {
   "cell_type": "code",
   "execution_count": 66,
   "id": "09d42acc",
   "metadata": {},
   "outputs": [
    {
     "name": "stdout",
     "output_type": "stream",
     "text": [
      "          AUC    GINI\n",
      "TRAIN  0.9816  0.9631\n",
      "TEST   0.9531  0.9062\n",
      "\n",
      " ------------------------------------------------------\n",
      "\n",
      "Training set score: 0.9440734557595993\n",
      "Test set score: 0.9333333333333333\n",
      "\n",
      " ------------------------------------------------------\n",
      "Classification_report: \n",
      "\n",
      "              precision    recall  f1-score   support\n",
      "\n",
      "        Stay       0.92      0.98      0.95       193\n",
      "       Churn       0.97      0.84      0.90       107\n",
      "\n",
      "    accuracy                           0.93       300\n",
      "   macro avg       0.94      0.91      0.93       300\n",
      "weighted avg       0.94      0.93      0.93       300\n",
      "\n",
      "\n",
      "XG Boosting cross-validation scores: [0.86868687 0.85436893 0.87619048 0.9        0.89215686]\n",
      "XG Boosting cross-validation mean score: 0.88\n",
      "\n",
      " ------------------------------------------------------\n",
      "\n",
      "Metrics:\n",
      "Accuracy: 0.93\n",
      "Precision: 0.94\n",
      "Recall: 0.91\n",
      "f1: 0.92\n",
      "Mislabeled: 20. It's: 6.67% of test data\n",
      "Total: 300\n",
      "\n",
      " ------------------------------------------------------\n",
      "\n",
      "Confusion matrix:\n",
      "[[190   3]\n",
      " [ 17  90]]\n"
     ]
    }
   ],
   "source": [
    "# Trying model on resampling original data:\n",
    "\n",
    "print_report_for_classification(model_xgb, \n",
    "                                X_train_res, \n",
    "                                X_test_res, \n",
    "                                y_train_res, \n",
    "                                y_test_res, \n",
    "                                X_res, \n",
    "                                y_res, \n",
    "                                target_names=[\"Stay\", \"Churn\"])"
   ]
  },
  {
   "cell_type": "code",
   "execution_count": 67,
   "id": "98a6cc36",
   "metadata": {},
   "outputs": [
    {
     "name": "stdout",
     "output_type": "stream",
     "text": [
      "          AUC    GINI\n",
      "TRAIN  0.9812  0.9624\n",
      "TEST   0.8594  0.7188\n",
      "\n",
      " ------------------------------------------------------\n",
      "\n",
      "Training set score: 0.9621155288822205\n",
      "Test set score: 0.9010494752623688\n",
      "\n",
      " ------------------------------------------------------\n",
      "Classification_report: \n",
      "\n",
      "              precision    recall  f1-score   support\n",
      "\n",
      "        Stay       0.95      0.93      0.94       570\n",
      "       Churn       0.64      0.71      0.68        97\n",
      "\n",
      "    accuracy                           0.90       667\n",
      "   macro avg       0.80      0.82      0.81       667\n",
      "weighted avg       0.91      0.90      0.90       667\n",
      "\n",
      "\n",
      "XG Boosting cross-validation scores: [0.75598086 0.7434555  0.79227053 0.71276596 0.77386935]\n",
      "XG Boosting cross-validation mean score: 0.76\n",
      "\n",
      " ------------------------------------------------------\n",
      "\n",
      "Metrics:\n",
      "Accuracy: 0.9\n",
      "Precision: 0.8\n",
      "Recall: 0.82\n",
      "f1: 0.81\n",
      "Mislabeled: 66. It's: 9.9% of test data\n",
      "Total: 667\n",
      "\n",
      " ------------------------------------------------------\n",
      "\n",
      "Confusion matrix:\n",
      "[[532  38]\n",
      " [ 28  69]]\n"
     ]
    }
   ],
   "source": [
    "# Trying model with SMOTE on original data:\n",
    "print_report_for_classification(pipe_sm, X_train, X_test, y_train, y_test, X, y, target_names=[\"Stay\", \"Churn\"])"
   ]
  },
  {
   "cell_type": "code",
   "execution_count": 68,
   "id": "cbaa5e5f",
   "metadata": {},
   "outputs": [
    {
     "name": "stdout",
     "output_type": "stream",
     "text": [
      "Column to encode: ['state', 'international plan', 'voice mail plan', 'churn']\n",
      "Column to encoder: 1\n"
     ]
    }
   ],
   "source": [
    "# Preparing data from new_data:\n",
    "X_n, y_n, mapping = basic_preprocess(data=prepare_modified_data(data), \n",
    "                            target='churn', \n",
    "                            plot_corr='no', \n",
    "                            col_to_drop=['phone number'], \n",
    "                            divide='yes',\n",
    "                            label_exist = dict_with_mapping)\n",
    "\n",
    "X_train_n, X_test_n, y_train_n, y_test_n = train_test_split(X_n, \n",
    "                                                    y_n, \n",
    "                                                    test_size=0.2, \n",
    "                                                    random_state=random_state, \n",
    "                                                    stratify = y_n)"
   ]
  },
  {
   "cell_type": "code",
   "execution_count": 69,
   "id": "da4cf81b",
   "metadata": {},
   "outputs": [
    {
     "name": "stdout",
     "output_type": "stream",
     "text": [
      "          AUC    GINI\n",
      "TRAIN  0.9803  0.9606\n",
      "TEST   0.8709  0.7418\n",
      "\n",
      " ------------------------------------------------------\n",
      "\n",
      "Training set score: 0.9643660915228808\n",
      "Test set score: 0.9025487256371814\n",
      "\n",
      " ------------------------------------------------------\n",
      "Classification_report: \n",
      "\n",
      "              precision    recall  f1-score   support\n",
      "\n",
      "        Stay       0.95      0.94      0.94       570\n",
      "       Churn       0.66      0.69      0.67        97\n",
      "\n",
      "    accuracy                           0.90       667\n",
      "   macro avg       0.80      0.81      0.81       667\n",
      "weighted avg       0.90      0.90      0.90       667\n",
      "\n",
      "\n",
      "XG Boosting cross-validation scores: [0.75121951 0.75       0.80769231 0.76595745 0.78756477]\n",
      "XG Boosting cross-validation mean score: 0.77\n",
      "\n",
      " ------------------------------------------------------\n",
      "\n",
      "Metrics:\n",
      "Accuracy: 0.9\n",
      "Precision: 0.8\n",
      "Recall: 0.81\n",
      "f1: 0.81\n",
      "Mislabeled: 65. It's: 9.75% of test data\n",
      "Total: 667\n",
      "\n",
      " ------------------------------------------------------\n",
      "\n",
      "Confusion matrix:\n",
      "[[535  35]\n",
      " [ 30  67]]\n"
     ]
    }
   ],
   "source": [
    "# Try SMOTE on my data set (with change 1 column) with XGBoost:\n",
    "\n",
    "print_report_for_classification(pipe_sm, X_train_n, X_test_n, y_train_n, y_test_n, X_n, y_n, target_names=[\"Stay\", \"Churn\"])"
   ]
  },
  {
   "cell_type": "code",
   "execution_count": 70,
   "id": "0f84b14d",
   "metadata": {},
   "outputs": [
    {
     "name": "stdout",
     "output_type": "stream",
     "text": [
      "          AUC    GINI\n",
      "TRAIN  0.9657  0.9314\n",
      "TEST   0.8919  0.7839\n",
      "\n",
      " ------------------------------------------------------\n",
      "\n",
      "Training set score: 0.9673668417104276\n",
      "Test set score: 0.9280359820089955\n",
      "\n",
      " ------------------------------------------------------\n",
      "Classification_report: \n",
      "\n",
      "              precision    recall  f1-score   support\n",
      "\n",
      "        Stay       0.97      0.95      0.96       570\n",
      "       Churn       0.73      0.80      0.76        97\n",
      "\n",
      "    accuracy                           0.93       667\n",
      "   macro avg       0.85      0.88      0.86       667\n",
      "weighted avg       0.93      0.93      0.93       667\n",
      "\n",
      "\n",
      "XG Boosting cross-validation scores: [0.79166667 0.76142132 0.80628272 0.81865285 0.81481481]\n",
      "XG Boosting cross-validation mean score: 0.80\n",
      "\n",
      " ------------------------------------------------------\n",
      "\n",
      "Metrics:\n",
      "Accuracy: 0.93\n",
      "Precision: 0.85\n",
      "Recall: 0.88\n",
      "f1: 0.86\n",
      "Mislabeled: 48. It's: 7.2% of test data\n",
      "Total: 667\n",
      "\n",
      " ------------------------------------------------------\n",
      "\n",
      "Confusion matrix:\n",
      "[[541  29]\n",
      " [ 19  78]]\n"
     ]
    }
   ],
   "source": [
    "# Try XGBoost on my data set (with change 1 column):\n",
    "\n",
    "print_report_for_classification(pipe, X_train_n, X_test_n, y_train_n, y_test_n, X_n, y_n, target_names=[\"Stay\", \"Churn\"])"
   ]
  },
  {
   "cell_type": "code",
   "execution_count": 71,
   "id": "ed540d86",
   "metadata": {},
   "outputs": [
    {
     "name": "stdout",
     "output_type": "stream",
     "text": [
      "Column to encode: ['state', 'international plan', 'voice mail plan', 'churn']\n",
      "Column to encoder: 1\n",
      "{'AK': 0, 'AL': 1, 'AR': 2, 'AZ': 3, 'CA': 4, 'CO': 5, 'CT': 6, 'DC': 7, 'DE': 8, 'FL': 9, 'GA': 10, 'HI': 11, 'IA': 12, 'ID': 13, 'IL': 14, 'IN': 15, 'KS': 16, 'KY': 17, 'LA': 18, 'MA': 19, 'MD': 20, 'ME': 21, 'MI': 22, 'MN': 23, 'MO': 24, 'MS': 25, 'MT': 26, 'NC': 27, 'ND': 28, 'NE': 29, 'NH': 30, 'NJ': 31, 'NM': 32, 'NV': 33, 'NY': 34, 'OH': 35, 'OK': 36, 'OR': 37, 'PA': 38, 'RI': 39, 'SC': 40, 'SD': 41, 'TN': 42, 'TX': 43, 'UT': 44, 'VA': 45, 'VT': 46, 'WA': 47, 'WI': 48, 'WV': 49, 'WY': 50}\n",
      "Columns that have been removed from the dataset: ['total day charge', 'total eve charge', 'total night charge', 'total intl charge', 'phone number']\n",
      "\n",
      "          AUC    GINI\n",
      "TRAIN  0.9456  0.8912\n",
      "TEST   0.8565  0.7130\n",
      "\n",
      " ------------------------------------------------------\n",
      "\n",
      "Training set score: 0.9343585896474118\n",
      "Test set score: 0.8935532233883059\n",
      "\n",
      " ------------------------------------------------------\n",
      "Classification_report: \n",
      "\n",
      "              precision    recall  f1-score   support\n",
      "\n",
      "        Stay       0.94      0.94      0.94       570\n",
      "       Churn       0.64      0.63      0.63        97\n",
      "\n",
      "    accuracy                           0.89       667\n",
      "   macro avg       0.79      0.78      0.78       667\n",
      "weighted avg       0.89      0.89      0.89       667\n",
      "\n",
      "\n",
      "XG Boosting cross-validation scores: [0.81025641 0.77319588 0.82233503 0.70588235 0.82978723]\n",
      "XG Boosting cross-validation mean score: 0.79\n",
      "\n",
      " ------------------------------------------------------\n",
      "\n",
      "Metrics:\n",
      "Accuracy: 0.89\n",
      "Precision: 0.79\n",
      "Recall: 0.78\n",
      "f1: 0.78\n",
      "Mislabeled: 71. It's: 10.64% of test data\n",
      "Total: 667\n",
      "\n",
      " ------------------------------------------------------\n",
      "\n",
      "Confusion matrix:\n",
      "[[535  35]\n",
      " [ 36  61]]\n"
     ]
    }
   ],
   "source": [
    "columns_to_drop = col_to_drop_after_high_corr(data, 0.9)\n",
    "columns_to_drop.append('phone number')\n",
    "\n",
    "X_hc, y_hc, mapping = basic_preprocess(data=prepare_modified_data(data), \n",
    "                              target='churn', \n",
    "                              plot_corr='no', \n",
    "                              col_to_drop=columns_to_drop, \n",
    "                              divide='yes')\n",
    "\n",
    "X_train_hc, X_test_hc, y_train_hc, y_test_hc = train_test_split(X_hc, \n",
    "                                                    y_hc, \n",
    "                                                    test_size=0.2, \n",
    "                                                    random_state=random_state, \n",
    "                                                    stratify = y_hc)\n",
    "\n",
    "print(f\"Columns that have been removed from the dataset: {columns_to_drop}\\n\")\n",
    "print_report_for_classification(pipe, X_train_hc, X_test_hc, y_train_hc, y_test_hc, X_hc, y_hc, target_names=[\"Stay\", \"Churn\"])"
   ]
  },
  {
   "cell_type": "markdown",
   "id": "87f16b7c",
   "metadata": {},
   "source": [
    "[Go back to the table of contents](#0-bullet)"
   ]
  },
  {
   "cell_type": "markdown",
   "id": "552a929b",
   "metadata": {},
   "source": [
    "## 9. SUMMARY <a class=\"anchor\" id=\"9-bullet\"></a>"
   ]
  },
  {
   "cell_type": "markdown",
   "id": "b43f4d13",
   "metadata": {},
   "source": [
    "To predict customer churn, I tested different dataset based on several methods:\n",
    "- dimensionality reduction (PCA)\n",
    "- feature selection, using methods such as:   \n",
    "    - pearson_cor_selector\n",
    "    - chi_square_selector\n",
    "    - rfe_selector\n",
    "    - lr_lasso_selector\n",
    "    - decision_tree_selector\n",
    "- creating a dataset without strongly correlated columns\n",
    "- balancing dataset through the resample and smote methods\n",
    "- leaving the original data for comparison.\n",
    "\n",
    "The above methods were based on the Random Forest model.\n",
    "After analyzing the results, the best set turned out to be the one using the resample and smote methods.\n",
    "\n",
    "Further analysis was aimed at selecting the best model for a more in-depth prediction analysis and the selection of hyperparameters for this model. Therefore, in the table, I have put together different models for classification to choose the one that gives good results and does not overfitting. One of such models turned out to be XGBoost, whose the mean of cross-validation is the highest and the divergence of the minimum and maximum measures is the lowest, so this model may be good to counteract overfitting. Therefore, based on this model, I tested various prepared sets.\n",
    "The following models are also worthy of further analysis:\n",
    "- GradientBoostingClassifier\t\n",
    "- RandomForestClassifier\n",
    "\n",
    "<ins>I tested with the XGBoost model:</ins>\n",
    "1. original dataset after resampling\n",
    "2. original dataset with smote\n",
    "3. dataset with 1 replaced column and with smote\n",
    "4. dataset with 1 replaced column and without smote \n",
    "5. dataset with replaced column and removed features strongly correlated\n",
    "\n",
    "The f1 measure was used for scoring when calculating the next metrics, because it is a much better measure than accuracy. Due to the fact that we do not know if we care more about avoiding the classification of regular customers as churn or not noticing customers who do it, f1 seems the most sensible, because it compares recall and precision in one measure. It is also a good measure for the binary classification we are dealing with.\n",
    "\n",
    "\n",
    "<ins>After analyzing the results of the XGBoost model for individual steps, the conclusions are as follows: </ins>\n",
    "- on the original dataset, resampling is better than smote\n",
    "- dataset with 1 replaced column (\"customer service calls\") gives better results with SMOTE method\n",
    "- a dataset where highly correlated columns have been removed gives good results, but the model itself is overfitting.\n",
    "\n",
    "<ins>Description of datasets:</ins>\n",
    "* The original dataset is the one where the data has not been processed. The only change is the removal of the column: phone number that contained only unique values\n",
    "* Dataset with 1 replaced column it's dataset with changed the column: \"customer service calls\" into the \"customer calls\" column where the number of phones over 4 has been grouped to 5\n",
    "\n",
    "\n",
    "#### Final conclusions:\n",
    "\n",
    "The best option seems to be resampling on an unchanged data set. However, its good results may not necessarily translate into everyday life because the amount of data has been greatly reduced, so that some issues that could be used to predict churn could not be caught here.\n",
    "Therefore, the best option is a dataset with a modified column and SMOTE method on the XGBoost model, which allows to predict churn above 70%, and cross validation shows that the model does not overfit to a large extent.\n",
    "\n",
    "\n",
    "[Go back to the table of contents](#0-bullet)"
   ]
  }
 ],
 "metadata": {
  "kernelspec": {
   "display_name": "Python 3 (ipykernel)",
   "language": "python",
   "name": "python3"
  },
  "language_info": {
   "codemirror_mode": {
    "name": "ipython",
    "version": 3
   },
   "file_extension": ".py",
   "mimetype": "text/x-python",
   "name": "python",
   "nbconvert_exporter": "python",
   "pygments_lexer": "ipython3",
   "version": "3.9.12"
  }
 },
 "nbformat": 4,
 "nbformat_minor": 5
}
